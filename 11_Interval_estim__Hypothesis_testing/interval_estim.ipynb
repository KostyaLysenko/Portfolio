{
 "cells": [
  {
   "cell_type": "markdown",
   "id": "845d1c46",
   "metadata": {},
   "source": [
    "# Задача 1"
   ]
  },
  {
   "cell_type": "code",
   "execution_count": 4,
   "id": "49f70443",
   "metadata": {},
   "outputs": [
    {
     "name": "stdout",
     "output_type": "stream",
     "text": [
      "4.0\n",
      "2.0\n",
      "1.4142135623730951\n",
      "0.6618647142732418\n",
      "Інтервальна оцінка буде лежати між значенням 3.338135285726758 та  4.661864714273242\n"
     ]
    }
   ],
   "source": [
    "n=20\n",
    "y=0.95\n",
    "a=2+6+40+18+14\n",
    "x=a/n\n",
    "print(x)\n",
    "s2=((((1-x)**2) * 2) +(((2-x)**2) * 3)+ (((4-x)**2)*3)+(((6-x)**2)*3)+(((7-x)**2)*2))/n-1\n",
    "print(s2)\n",
    "s=s2**0.5\n",
    "print(s)\n",
    "TT=2.093 \n",
    "G=TT*s/(n**0.5)\n",
    "print(G)\n",
    "xmax=x+G\n",
    "xmin=x-G\n",
    "print(f'Інтервальна оцінка буде лежати між значенням {xmin} та  {xmax}')\n"
   ]
  },
  {
   "cell_type": "markdown",
   "id": "3cfa494a",
   "metadata": {},
   "source": [
    "# Задача 2"
   ]
  },
  {
   "cell_type": "code",
   "execution_count": 8,
   "id": "ef6939d2",
   "metadata": {},
   "outputs": [
    {
     "name": "stdout",
     "output_type": "stream",
     "text": [
      "0.475\n",
      "Інтервальна оцінка буде лежати між значенням -0.06779556555368946 та  0.8751945270488898\n"
     ]
    }
   ],
   "source": [
    "y=0.95\n",
    "n=100\n",
    "m=40\n",
    "Ft=y/2\n",
    "print(Ft)\n",
    "t=1.96\n",
    "P1=(m+(t**2)/2 - t*((m*(n-m)/n)+((t**2)/4)**0.5))/((t**2)+n)\n",
    "P2=(m+(t**2)/2 + t*((m*(n-m)/n)+((t**2)/4)**0.5))/((t**2)+n)\n",
    "print(f'Інтервальна оцінка буде лежати між значенням {P1} та  {P2}')"
   ]
  },
  {
   "cell_type": "markdown",
   "id": "60efd0db",
   "metadata": {},
   "source": [
    "# Задача 3"
   ]
  },
  {
   "cell_type": "code",
   "execution_count": 14,
   "id": "2dbbfd2c",
   "metadata": {},
   "outputs": [
    {
     "name": "stdout",
     "output_type": "stream",
     "text": [
      "0.495\n",
      "166.41000000000003\n"
     ]
    }
   ],
   "source": [
    "y=0.99\n",
    "s=0.6\n",
    "G=3\n",
    "nmin=0\n",
    "Ft=y/2\n",
    "print(Ft)\n",
    "t=2.58\n",
    "n=(t**2)*((G**2)/(s**2))\n",
    "print(n)\n",
    "#ВІДПОВІДЬ - 167  тому що округляти до меншого в такому випадку не можна"
   ]
  }
 ],
 "metadata": {
  "kernelspec": {
   "display_name": "Python 3 (ipykernel)",
   "language": "python",
   "name": "python3"
  },
  "language_info": {
   "codemirror_mode": {
    "name": "ipython",
    "version": 3
   },
   "file_extension": ".py",
   "mimetype": "text/x-python",
   "name": "python",
   "nbconvert_exporter": "python",
   "pygments_lexer": "ipython3",
   "version": "3.10.11"
  }
 },
 "nbformat": 4,
 "nbformat_minor": 5
}
