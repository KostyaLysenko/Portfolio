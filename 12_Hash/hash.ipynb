{
 "cells": [
  {
   "cell_type": "markdown",
   "id": "5aef3a1f",
   "metadata": {},
   "source": [
    "# Задача 1"
   ]
  },
  {
   "cell_type": "code",
   "execution_count": 2,
   "id": "53b7c71c",
   "metadata": {},
   "outputs": [
    {
     "name": "stdout",
     "output_type": "stream",
     "text": [
      "[[0, 'orange'], [], [], [], [], [], [], [], [], [], [], [], [], [], [], [], [], [], [], [], [], [], [], [], [], [], [], [], [], [], [], [], [], [], [], [], [], [], [], [], [], [], [], [], [], [], [], [], [], [], [], [], [], [], [], [], [], [], [], [], [], [], [], [], [], [], [], [], [], [], [], [], [], [], [], [], [], [], [], [], [], [], [], [], [], [], [], [], [], [], [], [], [], [], [], [], [], [], [], []]\n",
      "[[0, 'orange'], [1, 'banana'], [], [], [], [], [], [], [], [], [], [], [], [], [], [], [], [], [], [], [], [], [], [], [], [], [], [], [], [], [], [], [], [], [], [], [], [], [], [], [], [], [], [], [], [], [], [], [], [], [], [], [], [], [], [], [], [], [], [], [], [], [], [], [], [], [], [], [], [], [], [], [], [], [], [], [], [], [], [], [], [], [], [], [], [], [], [], [], [], [], [], [], [], [], [], [], [], [], []]\n",
      "[0, [1, 'banana'], [], [], [], [], [], [], [], [], [], [], [], [], [], [], [], [], [], [], [], [], [], [], [], [], [], [], [], [], [], [], [], [], [], [], [], [], [], [], [], [], [], [], [], [], [], [], [], [], [], [], [], [], [], [], [], [], [], [], [], [], [], [], [], [], [], [], [], [], [], [], [], [], [], [], [], [], [], [], [], [], [], [], [], [], [], [], [], [], [], [], [], [], [], [], [], [], [], []]\n"
     ]
    }
   ],
   "source": [
    "class Hash:\n",
    "    def __init__(self, key,data):\n",
    "        self.key = key\n",
    "        self.data=data\n",
    "\n",
    "    # @classmethod\n",
    "    # def hashtable(self):\n",
    "    #     hashTable = [[], ] * 100\n",
    "    #     return hashTable\n",
    "\n",
    "    def hashtable(self):\n",
    "        return self\n",
    "    def checkPrime(key):\n",
    "        if key==1 or key==0:\n",
    "            return  0\n",
    "        for i in range(2, key//2):\n",
    "            if key %i==0:\n",
    "                return 0\n",
    "        return 1\n",
    "\n",
    "    def getPrime(key):\n",
    "        if key %2 == 0:\n",
    "            key += 1\n",
    "            return key\n",
    "        while not Hash.checkPrime(key):\n",
    "            key += 2\n",
    "            return key\n",
    "        return key\n",
    "\n",
    "    def hashFunction(key):\n",
    "        capacity = Hash.getPrime(10)\n",
    "\n",
    "        return key % capacity\n",
    "\n",
    "\n",
    "    def insertData(self, key, data):\n",
    "        index = Hash.hashFunction(key)\n",
    "        hashtab=Hash.hashtable(self)\n",
    "        hashtab[index] = [key, data]\n",
    "        return hashtab\n",
    "\n",
    "    def removeData(self, key):\n",
    "        index = Hash.hashFunction(key)\n",
    "        hashtab = Hash.hashtable(self)\n",
    "        hashtab[index] = 0\n",
    "        return hashtab\n",
    "\n",
    "hash=Hash.insertData([[],] * 100, 0, 'orange')\n",
    "print(hash)\n",
    "hash=Hash.insertData(hash, 1, 'banana')\n",
    "print(hash)\n",
    "hash=Hash.removeData(hash, 0)\n",
    "print(hash)\n"
   ]
  },
  {
   "cell_type": "markdown",
   "id": "b7d8467e",
   "metadata": {},
   "source": [
    "# Задача 2"
   ]
  },
  {
   "cell_type": "code",
   "execution_count": 1,
   "id": "80c77dff",
   "metadata": {},
   "outputs": [
    {
     "name": "stdout",
     "output_type": "stream",
     "text": [
      "Для регістрації введіть\n",
      "Ваш логін: Kostya\n",
      "Ваш пароль: qwerty\n",
      "Введіть логін для авторизації: Kostya\n",
      "Введіть пароль для авторизації: qwerty\n",
      "Ви авторизовані\n"
     ]
    }
   ],
   "source": [
    "import hashlib\n",
    "import sys\n",
    "print('Для регістрації введіть')\n",
    "login = input(\"Ваш логін: \")\n",
    "password = input('Ваш пароль: ')\n",
    "passwordhash = hashlib.md5(bytes(password, 'UTF-8'))\n",
    "\n",
    "passwords={}\n",
    "passwords.update({login:passwordhash.hexdigest()})\n",
    "# print(passwords)\n",
    "\n",
    "ver_login=input('Введіть логін для авторизації: ')\n",
    "ver_password=hashlib.md5(bytes(input('Введіть пароль для авторизації: '), 'UTF-8'))\n",
    "if ver_login==list(passwords.keys())[0] and ver_password.hexdigest()==list(passwords.values())[0]:\n",
    "    print('Ви авторизовані')\n",
    "else:\n",
    "    print(\"Ви ввели невірний логін або пароль!!\", file=sys.stderr)\n"
   ]
  }
 ],
 "metadata": {
  "kernelspec": {
   "display_name": "Python 3 (ipykernel)",
   "language": "python",
   "name": "python3"
  },
  "language_info": {
   "codemirror_mode": {
    "name": "ipython",
    "version": 3
   },
   "file_extension": ".py",
   "mimetype": "text/x-python",
   "name": "python",
   "nbconvert_exporter": "python",
   "pygments_lexer": "ipython3",
   "version": "3.10.11"
  }
 },
 "nbformat": 4,
 "nbformat_minor": 5
}
