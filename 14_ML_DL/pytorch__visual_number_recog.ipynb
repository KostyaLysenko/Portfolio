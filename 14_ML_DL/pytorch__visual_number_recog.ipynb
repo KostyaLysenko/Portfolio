{
 "cells": [
  {
   "cell_type": "markdown",
   "metadata": {
    "id": "HI30ztfbnqkC"
   },
   "source": [
    "# Фреймворк PyTorch"
   ]
  },
  {
   "cell_type": "code",
   "execution_count": 1,
   "metadata": {
    "id": "7AowGFGi8Oah"
   },
   "outputs": [],
   "source": [
    " # Бібліотеки для візуалізації\n",
    "import numpy as np\n",
    "import matplotlib.pyplot as plt\n",
    "%matplotlib inline\n",
    "from PIL import Image\n",
    "import scipy\n",
    " \n",
    "# Бібліотеки Pytorch\n",
    "import torch \n",
    "import torchvision # тут лежить mnist, cifar та багато інших датасетів та трансформацій для картинок\n",
    "import torch.nn as nn # тут лежать усі шари\n",
    "import torch.utils.data as data # робота із завантажувачем даних\n",
    "import torchvision.transforms as transforms\n",
    "import torchvision.datasets as dsets #робота з класом Датасет\n",
    "from torch.autograd import Variable # для автоматичного диференціатора\n",
    " \n",
    "# Візуалізація графа\n",
    "from torch.utils.tensorboard import SummaryWriter \n",
    "import datetime,os\n",
    "import time\n",
    " \n",
    "import seaborn as sns\n",
    "sns.set_style('darkgrid')"
   ]
  },
  {
   "cell_type": "markdown",
   "metadata": {
    "id": "ecdY-Slj8Oec"
   },
   "source": [
    "## Збереження та завантаження моделі"
   ]
  },
  {
   "cell_type": "code",
   "execution_count": null,
   "metadata": {
    "colab": {
     "base_uri": "https://localhost:8080/"
    },
    "id": "pXMBWFbr8Oee",
    "outputId": "6d860908-4891-46b3-99a5-9ac0a5e4c8ab"
   },
   "outputs": [],
   "source": [
    "# Збереження та завантаження всієї моделі\n",
    "torch.save(linear, 'model.pkl')\n",
    "model = torch.load('model.pkl') # зберігаються навіть стани оптимізатора, результату епох тощо.\n",
    "\n",
    "# Рекомендується зберегти лише параметри моделі (з метою безпеки)\n",
    "torch.save(linear.state_dict(), 'params.pkl')\n",
    "linear.load_state_dict(torch.load('params.pkl'))"
   ]
  },
  {
   "cell_type": "markdown",
   "metadata": {
    "id": "x9vbolfh8T0F"
   },
   "source": [
    "## **Класифікуємо MNIST**"
   ]
  },
  {
   "cell_type": "markdown",
   "metadata": {
    "id": "FQ-M3IiR8T0b"
   },
   "source": [
    "Задаємо параметри"
   ]
  },
  {
   "cell_type": "code",
   "execution_count": 8,
   "metadata": {
    "id": "_I_TTnEc8T0x"
   },
   "outputs": [],
   "source": [
    "inputSize = 784\n",
    "numClasses = 10\n",
    "numEpochs = 20\n",
    "learningRate = 0.001 \n",
    "hidden = 500\n",
    "hidden2 = 100"
   ]
  },
  {
   "cell_type": "code",
   "execution_count": null,
   "metadata": {},
   "outputs": [],
   "source": []
  },
  {
   "cell_type": "markdown",
   "metadata": {
    "id": "Ba2SL_ub8T04"
   },
   "source": [
    "Завантажуємо дані"
   ]
  },
  {
   "cell_type": "code",
   "execution_count": 9,
   "metadata": {
    "colab": {
     "base_uri": "https://localhost:8080/",
     "height": 400,
     "referenced_widgets": [
      "02b49815646b44eda858d693759f97d0",
      "e62af250e3ed4175be1d46e467939814",
      "6ecc00efc6744fdaa2c238e83c1e543c",
      "8fd3f0683cc94598a36a8de701bc0f8a",
      "f1407b1456184e44a570c6d9072b9a9b",
      "af5b709a90b04d85ad9b3e2274be755f",
      "d463f3e794794d7e9e33f205b1a4d697",
      "fa892a74a9b64757a8dc2b1d0e6739f2",
      "e2715624dd774daa968700e078de9878",
      "35746082ec09422a9664b08685bf0df6",
      "683b9fcc9f124c4a83976114a29a394b",
      "f9612b6d2fda44adb4071a82c619884d",
      "0064c1f285064fa8be43a93b3c4f270e",
      "a74f2482e8c14080b89314dbfa04e5c2",
      "595645adc16c4d2fa5de01e3fe63615f",
      "60943ff3fc1c4060bf174e24ed57bbd2",
      "28306b4336da4e189ce97adafa983aa6",
      "9082008f0625401aaefd4859dc90a759",
      "a800c15ba62a4ce980f638ca9fc3e60a",
      "6f0c7e0947f541f0a64f1fdc536692ab",
      "4895b3f1468b47f68234fd687e1d53a3",
      "879f76a6a72149c69d35a5e28dde2f9a",
      "057f2caeeb1b48baa0f496635e1ef1c3",
      "d56b21bd4bb240c99dc24e45a5751302",
      "0057fae63609418eae529c7d3ca0291a",
      "b90a529c5cc74a93af1120f43f1aebf2",
      "3b1f611b03964cf5a41be6e6cdf3fd09",
      "d50cffdc002a4f03b74039b1c1dffac4",
      "eb10b2faf4314d85a4900e8e04ef3e0f",
      "c6bc1b28714348079d69d2f09aea6a38",
      "9d040351b8f24fd582cd44760187298e",
      "a75bf3949a7343ecb9d89a3a389db435"
     ]
    },
    "id": "Dk5f1SjP8T07",
    "outputId": "395f15fa-8e9d-4b6e-939b-d78f4375b589"
   },
   "outputs": [],
   "source": [
    "# Завантажимо MNIST\n",
    "batchSize = 100\n",
    "\n",
    "# Навчальна вибірка\n",
    "trainDataset = dsets.MNIST(root='D:/MyDoc/Projects/_NN/Lesson_PyTorch/data/', \n",
    "                            train=True, \n",
    "                            transform=transforms.ToTensor(),\n",
    "                            download=True)\n",
    "# Тестова вибірка\n",
    "testDataset = dsets.MNIST(root='D:/MyDoc/Projects/_NN/Lesson_PyTorch/data/', \n",
    "                           train=False, \n",
    "                           transform=transforms.ToTensor())\n",
    "\n",
    "# Dataset Loader (підготовка даних для мережі)\n",
    "trainLoader = torch.utils.data.DataLoader(dataset=trainDataset, # Який датасет\n",
    "                                           batch_size=batchSize, # На скільки batch поділено\n",
    "                                           shuffle=True) \n",
    "\n",
    "testLoader = torch.utils.data.DataLoader(dataset=testDataset, #  Який датасет\n",
    "                                          batch_size=batchSize, # На скільки batch поділено\n",
    "                                          shuffle=False)\n"
   ]
  },
  {
   "cell_type": "code",
   "execution_count": 10,
   "metadata": {
    "id": "hFTMCZfL8T3B"
   },
   "outputs": [],
   "source": [
    "# Подивимося на нашу вибірку\n",
    "dataIter = iter(trainLoader) # Якою вибіркою пройдемося\n",
    "trainX, trainY = next(dataIter) # Привласнюємо поточний batch"
   ]
  },
  {
   "cell_type": "code",
   "execution_count": 11,
   "metadata": {
    "colab": {
     "base_uri": "https://localhost:8080/"
    },
    "id": "hluWse_zdL-k",
    "outputId": "dfa97cf0-0abe-44d3-e8f8-62e6872627e0"
   },
   "outputs": [
    {
     "data": {
      "text/plain": [
       "torch.Size([100, 1, 28, 28])"
      ]
     },
     "execution_count": 11,
     "metadata": {},
     "output_type": "execute_result"
    }
   ],
   "source": [
    "trainX.shape"
   ]
  },
  {
   "cell_type": "code",
   "execution_count": 23,
   "metadata": {
    "colab": {
     "base_uri": "https://localhost:8080/",
     "height": 462
    },
    "id": "KZLeoVjn8T3V",
    "outputId": "99f62144-af78-4092-ab7f-c575115f1afd"
   },
   "outputs": [
    {
     "data": {
      "image/png": "[encoded data removed]",
      "text/plain": [
       "<Figure size 1400x700 with 1 Axes>"
      ]
     },
     "metadata": {},
     "output_type": "display_data"
    }
   ],
   "source": [
    "plt.figure(figsize=(14,7))\n",
    "plt.imshow(trainX[1, 0], cmap='gray')\n",
    "plt.show()"
   ]
  },
  {
   "cell_type": "code",
   "execution_count": null,
   "metadata": {},
   "outputs": [],
   "source": []
  },
  {
   "cell_type": "markdown",
   "metadata": {
    "id": "CBFoY69Z8T3d"
   },
   "source": [
    "## Моделі архітектури"
   ]
  },
  {
   "cell_type": "code",
   "execution_count": 13,
   "metadata": {
    "id": "gVSCXosz8T3o"
   },
   "outputs": [],
   "source": [
    "# Створюємо клас\n",
    "class Classification(nn.Module):\n",
    "    def __init__(self, input_size, hidden_size1, hidden_size2, num_classes):\n",
    "        super().__init__() # успадковуємо всі властивості + додаємо своє\n",
    "        self.layer1 = nn.Linear(inputSize, hidden_size1) # перший шар - лінійний\n",
    "        self.relu = nn.ReLU() \n",
    "        self.layer2 = nn.Linear(hidden_size1,hidden_size2)\n",
    "        self.layer3 = nn.Linear(hidden_size2, num_classes)\n",
    "        self.softmax = nn.Softmax(dim=1) # Оскільки завдання класифікації, то функція активації softmax\n",
    "\n",
    "    def forward(self, x): # Тут ми прописуємо принципи, за якими дані проходитимуть через мережу\n",
    "        out = self.layer1(x)  # вихід першого шару\n",
    "        out = self.relu(out) # застосовуємо функцію активації до виходу першого шару\n",
    "        out = self.layer2(out) # застосовуємо функцію активації до виходу першого шару\n",
    "        out = self.relu(out) # застосовуємо функцію активації до виходу першого шару\n",
    "        out = self.layer3(out)\n",
    "        out = self.softmax(out) # застосовуємо функцію активації до другого шару\n",
    "        return out\n",
    "\n",
    "model = Classification(inputSize, hidden,hidden2, numClasses) # Створюємо об'єкт нашої повної мережі"
   ]
  },
  {
   "cell_type": "code",
   "execution_count": 14,
   "metadata": {
    "id": "3VmEfJ1gRve2"
   },
   "outputs": [],
   "source": [
    "# class Static_model(nn.Module):\n",
    "#   def __init__(self):\n",
    "#     super().__init__()\n",
    "#     self.layer1 = nn.Linear(784, 200)\n",
    "#     self.layer2 = nn.Linear(200, 10)\n",
    "#     self.relu = nn.ReLU()\n",
    "#     self.softmax = nn.Softmax(dim=1)\n",
    "#     # self.tanh = nn.Tanh()\n",
    "\n",
    "#   def forward(self, x):\n",
    "#     x = self.layer1(x)\n",
    "#     x = self.relu(x)\n",
    "#     x = self.softmax(self.layer2(x))\n",
    "#     return x"
   ]
  },
  {
   "cell_type": "code",
   "execution_count": 15,
   "metadata": {
    "colab": {
     "base_uri": "https://localhost:8080/"
    },
    "id": "WBLm1RXd8T3t",
    "outputId": "0343ceaf-c6c2-4615-dc71-87d8b4947453"
   },
   "outputs": [
    {
     "data": {
      "text/plain": [
       "torch.Size([100, 784])"
      ]
     },
     "execution_count": 15,
     "metadata": {},
     "output_type": "execute_result"
    }
   ],
   "source": [
    "trainX.view(-1, 28*28).shape # view операція ідентична reshape, за винятком, що вона змінює розмір масиву тільки для даної ітерації"
   ]
  },
  {
   "cell_type": "code",
   "execution_count": 16,
   "metadata": {
    "colab": {
     "base_uri": "https://localhost:8080/"
    },
    "id": "rOCnak6V2nik",
    "outputId": "b9bc241e-eb43-46cf-d371-4269c5773168"
   },
   "outputs": [
    {
     "data": {
      "text/plain": [
       "torch.Size([100, 1, 28, 28])"
      ]
     },
     "execution_count": 16,
     "metadata": {},
     "output_type": "execute_result"
    }
   ],
   "source": [
    "trainX.size()"
   ]
  },
  {
   "cell_type": "markdown",
   "metadata": {
    "id": "zjhHlFLC8T5f"
   },
   "source": [
    "## Функція помилки та оптимізатор"
   ]
  },
  {
   "cell_type": "code",
   "execution_count": 17,
   "metadata": {
    "colab": {
     "base_uri": "https://localhost:8080/"
    },
    "id": "7ilFKNqoJvT8",
    "outputId": "971e980f-2db5-42f1-9896-ac0e0e6b976c"
   },
   "outputs": [
    {
     "data": {
      "text/plain": [
       "Classification(\n",
       "  (layer1): Linear(in_features=784, out_features=500, bias=True)\n",
       "  (relu): ReLU()\n",
       "  (layer2): Linear(in_features=500, out_features=100, bias=True)\n",
       "  (layer3): Linear(in_features=100, out_features=10, bias=True)\n",
       "  (softmax): Softmax(dim=1)\n",
       ")"
      ]
     },
     "execution_count": 17,
     "metadata": {},
     "output_type": "execute_result"
    }
   ],
   "source": [
    "criterion = nn.CrossEntropyLoss() \n",
    "optimizer = torch.optim.SGD(model.parameters(), lr=learningRate)  # оптимізатор\n",
    "losses = [] # тут буде додаватись середня похибка. Список будемо використовувати для побудови графіка\n",
    "model.train() # перехід у режим навчання (опціонально)"
   ]
  },
  {
   "cell_type": "markdown",
   "metadata": {
    "id": "p3l7UxjXJvzq"
   },
   "source": [
    "## Навчаємо модель"
   ]
  },
  {
   "cell_type": "code",
   "execution_count": 18,
   "metadata": {
    "colab": {
     "base_uri": "https://localhost:8080/",
     "height": 596
    },
    "id": "i7fyIoGW8T5h",
    "outputId": "34f13ec9-fd75-4190-bc58-13bc39a86872",
    "scrolled": true
   },
   "outputs": [
    {
     "name": "stdout",
     "output_type": "stream",
     "text": [
      "Епоха: [1/20], Похибка: 2.2847\n",
      "Епоха: [2/20], Похибка: 2.2646\n",
      "Епоха: [3/20], Похибка: 2.2485\n",
      "Епоха: [4/20], Похибка: 2.1688\n",
      "Епоха: [5/20], Похибка: 2.1426\n",
      "Епоха: [6/20], Похибка: 2.0927\n",
      "Епоха: [7/20], Похибка: 1.9895\n",
      "Епоха: [8/20], Похибка: 1.8055\n",
      "Епоха: [9/20], Похибка: 1.6099\n",
      "Епоха: [10/20], Похибка: 1.5306\n",
      "Епоха: [11/20], Похибка: 1.3343\n",
      "Епоха: [12/20], Похибка: 1.0923\n",
      "Епоха: [13/20], Похибка: 1.0876\n",
      "Епоха: [14/20], Похибка: 0.8011\n",
      "Епоха: [15/20], Похибка: 0.8103\n",
      "Епоха: [16/20], Похибка: 0.7563\n",
      "Епоха: [17/20], Похибка: 0.7764\n",
      "Епоха: [18/20], Похибка: 0.7290\n",
      "Епоха: [19/20], Похибка: 0.6051\n",
      "Епоха: [20/20], Похибка: 0.5152\n"
     ]
    },
    {
     "data": {
      "image/png": "[encoded data removed]",
      "text/plain": [
       "<Figure size 1400x700 with 1 Axes>"
      ]
     },
     "metadata": {},
     "output_type": "display_data"
    }
   ],
   "source": [
    "for epoch in range(numEpochs): # кількість епох\n",
    "    lossTot = 0 # втрати в сукупності\n",
    "\n",
    "    for i, (images, labels) in enumerate(trainLoader): # проходимося за всіма даними в batch\n",
    "        images = images.view(-1, 28*28) # наводимо до правильного формату для сітки\n",
    "        optimizer.zero_grad() # обнулюємо градієнт\n",
    "        outputs = model(images) # тут наше передбачення\n",
    "        loss = criterion(outputs.log(), labels) # рахуємо похибку \n",
    "        loss.backward()  # зворотне поширення. \n",
    "                         # x.grad += dloss/dx для всіх параметрів x\n",
    "\n",
    "        lossTot +=loss.detach().data # інкремент помилки\n",
    "        \n",
    "        optimizer.step() # наступний крок спуску\n",
    "\n",
    "    losses.append(lossTot/len(trainDataset)) # обчислюємо середню помилку та додаємо до списку\n",
    "    print('Епоха: [%d/%d], Похибка: %.4f' \n",
    "           % (epoch+1, numEpochs, loss))\n",
    "plt.figure(figsize=(14,7))\n",
    "plt.plot(losses) # Графік нашого навчання\n",
    "plt.show()"
   ]
  },
  {
   "cell_type": "code",
   "execution_count": 104,
   "metadata": {},
   "outputs": [
    {
     "name": "stdout",
     "output_type": "stream",
     "text": [
      "tensor([7, 5, 3, 1, 6, 1, 7, 1, 8, 2, 1, 5, 2, 1, 3, 7, 9, 8, 3, 2, 5, 8, 5, 5,\n",
      "        2, 4, 1, 6, 6, 3, 3, 9, 7, 1, 9, 5, 5, 0, 6, 5, 5, 7, 7, 7, 2, 8, 1, 7,\n",
      "        9, 5, 9, 2, 5, 3, 1, 8, 9, 7, 5, 5, 4, 6, 6, 7, 5, 1, 8, 0, 4, 4, 4, 3,\n",
      "        7, 7, 4, 2, 9, 6, 5, 8, 4, 3, 0, 1, 6, 4, 4, 7, 5, 4, 2, 6, 1, 5, 6, 2,\n",
      "        1, 0, 5, 2])\n",
      "tensor([[-2.3030, -2.3033, -2.3020, -2.3012, -2.3021, -2.3036, -2.3027, -2.3039,\n",
      "         -2.3016, -2.3024],\n",
      "        [-2.3026, -2.3041, -2.3006, -2.3013, -2.3023, -2.3050, -2.3031, -2.3049,\n",
      "         -2.3004, -2.3015],\n",
      "        [-2.3021, -2.3035, -2.3011, -2.3024, -2.3019, -2.3028, -2.3053, -2.3018,\n",
      "         -2.3024, -2.3026],\n",
      "        [-2.3030, -2.3035, -2.3014, -2.3012, -2.3024, -2.3033, -2.3040, -2.3034,\n",
      "         -2.3014, -2.3023],\n",
      "        [-2.3023, -2.3036, -2.3019, -2.3017, -2.3026, -2.3030, -2.3040, -2.3027,\n",
      "         -2.3015, -2.3025],\n",
      "        [-2.3027, -2.3033, -2.3025, -2.3022, -2.3034, -2.3028, -2.3030, -2.3025,\n",
      "         -2.3016, -2.3018],\n",
      "        [-2.3028, -2.3034, -2.3014, -2.3019, -2.3018, -2.3027, -2.3041, -2.3030,\n",
      "         -2.3021, -2.3026],\n",
      "        [-2.3030, -2.3031, -2.3018, -2.3016, -2.3023, -2.3029, -2.3038, -2.3030,\n",
      "         -2.3019, -2.3023],\n",
      "        [-2.3034, -2.3039, -2.3018, -2.3000, -2.3012, -2.3038, -2.3038, -2.3038,\n",
      "         -2.3028, -2.3014],\n",
      "        [-2.3035, -2.3034, -2.3025, -2.3011, -2.3016, -2.3037, -2.3032, -2.3024,\n",
      "         -2.3012, -2.3034],\n",
      "        [-2.3029, -2.3028, -2.3018, -2.3013, -2.3020, -2.3034, -2.3041, -2.3026,\n",
      "         -2.3031, -2.3018],\n",
      "        [-2.3029, -2.3028, -2.3024, -2.3016, -2.3029, -2.3030, -2.3037, -2.3026,\n",
      "         -2.3021, -2.3018],\n",
      "        [-2.3027, -2.3046, -2.3011, -2.3008, -2.3024, -2.3041, -2.3044, -2.3035,\n",
      "         -2.3006, -2.3018],\n",
      "        [-2.3025, -2.3036, -2.3014, -2.3014, -2.3023, -2.3031, -2.3042, -2.3032,\n",
      "         -2.3017, -2.3025],\n",
      "        [-2.3026, -2.3033, -2.3018, -2.3016, -2.3021, -2.3030, -2.3042, -2.3024,\n",
      "         -2.3022, -2.3026],\n",
      "        [-2.3026, -2.3034, -2.3023, -2.3014, -2.3020, -2.3030, -2.3035, -2.3030,\n",
      "         -2.3019, -2.3027],\n",
      "        [-2.3027, -2.3046, -2.3011, -2.3006, -2.3015, -2.3038, -2.3044, -2.3036,\n",
      "         -2.3014, -2.3021],\n",
      "        [-2.3029, -2.3038, -2.3010, -2.3015, -2.3019, -2.3033, -2.3047, -2.3030,\n",
      "         -2.3014, -2.3025],\n",
      "        [-2.3021, -2.3033, -2.3015, -2.3021, -2.3021, -2.3033, -2.3039, -2.3032,\n",
      "         -2.3021, -2.3023],\n",
      "        [-2.3020, -2.3032, -2.3019, -2.3022, -2.3023, -2.3032, -2.3036, -2.3036,\n",
      "         -2.3018, -2.3023],\n",
      "        [-2.3032, -2.3030, -2.3013, -2.3018, -2.3023, -2.3037, -2.3038, -2.3030,\n",
      "         -2.3017, -2.3020],\n",
      "        [-2.3035, -2.3050, -2.3024, -2.3004, -2.3017, -2.3023, -2.3035, -2.3037,\n",
      "         -2.3006, -2.3027],\n",
      "        [-2.3037, -2.3041, -2.3008, -2.3009, -2.3022, -2.3032, -2.3056, -2.3032,\n",
      "         -2.3011, -2.3010],\n",
      "        [-2.3032, -2.3039, -2.3012, -2.3008, -2.3019, -2.3040, -2.3038, -2.3042,\n",
      "         -2.3011, -2.3019],\n",
      "        [-2.3024, -2.3040, -2.3009, -2.3019, -2.3018, -2.3034, -2.3049, -2.3031,\n",
      "         -2.3015, -2.3019],\n",
      "        [-2.3023, -2.3047, -2.3010, -2.3010, -2.3022, -2.3035, -2.3048, -2.3030,\n",
      "         -2.3008, -2.3025],\n",
      "        [-2.3027, -2.3038, -2.3015, -2.3015, -2.3024, -2.3034, -2.3039, -2.3032,\n",
      "         -2.3015, -2.3020],\n",
      "        [-2.3029, -2.3044, -2.3010, -2.3011, -2.3023, -2.3037, -2.3042, -2.3039,\n",
      "         -2.3005, -2.3016],\n",
      "        [-2.3026, -2.3034, -2.3018, -2.3017, -2.3024, -2.3034, -2.3039, -2.3026,\n",
      "         -2.3020, -2.3020],\n",
      "        [-2.3032, -2.3037, -2.3016, -2.3014, -2.3007, -2.3028, -2.3036, -2.3041,\n",
      "         -2.3015, -2.3033],\n",
      "        [-2.3026, -2.3043, -2.3016, -2.3004, -2.3023, -2.3032, -2.3048, -2.3030,\n",
      "         -2.3016, -2.3021],\n",
      "        [-2.3028, -2.3043, -2.3008, -2.3017, -2.3014, -2.3040, -2.3043, -2.3040,\n",
      "         -2.3014, -2.3011],\n",
      "        [-2.3026, -2.3039, -2.3022, -2.3009, -2.3022, -2.3033, -2.3037, -2.3029,\n",
      "         -2.3021, -2.3022],\n",
      "        [-2.3027, -2.3039, -2.3014, -2.3017, -2.3021, -2.3034, -2.3038, -2.3031,\n",
      "         -2.3011, -2.3024],\n",
      "        [-2.3026, -2.3038, -2.3026, -2.3010, -2.3029, -2.3033, -2.3038, -2.3023,\n",
      "         -2.3018, -2.3017],\n",
      "        [-2.3032, -2.3045, -2.3008, -2.3005, -2.3018, -2.3040, -2.3039, -2.3041,\n",
      "         -2.3011, -2.3020],\n",
      "        [-2.3035, -2.3036, -2.3020, -2.3006, -2.3019, -2.3028, -2.3045, -2.3017,\n",
      "         -2.3033, -2.3019],\n",
      "        [-2.3011, -2.3007, -2.3011, -2.3046, -2.3023, -2.3041, -2.3035, -2.3036,\n",
      "         -2.3028, -2.3021],\n",
      "        [-2.3029, -2.3035, -2.3014, -2.3006, -2.3024, -2.3039, -2.3048, -2.3032,\n",
      "         -2.3015, -2.3016],\n",
      "        [-2.3027, -2.3032, -2.3024, -2.3011, -2.3023, -2.3032, -2.3034, -2.3035,\n",
      "         -2.3016, -2.3024],\n",
      "        [-2.3035, -2.3040, -2.3016, -2.3021, -2.3021, -2.3023, -2.3039, -2.3028,\n",
      "         -2.3012, -2.3024],\n",
      "        [-2.3025, -2.3034, -2.3021, -2.3019, -2.3020, -2.3030, -2.3033, -2.3028,\n",
      "         -2.3022, -2.3024],\n",
      "        [-2.3032, -2.3025, -2.3017, -2.3015, -2.3017, -2.3041, -2.3030, -2.3039,\n",
      "         -2.3025, -2.3015],\n",
      "        [-2.3030, -2.3037, -2.3020, -2.3015, -2.3020, -2.3033, -2.3031, -2.3026,\n",
      "         -2.3021, -2.3024],\n",
      "        [-2.3017, -2.3029, -2.3014, -2.3019, -2.3020, -2.3039, -2.3045, -2.3029,\n",
      "         -2.3023, -2.3023],\n",
      "        [-2.3030, -2.3047, -2.3006, -2.3014, -2.3024, -2.3032, -2.3047, -2.3034,\n",
      "         -2.3003, -2.3022],\n",
      "        [-2.3029, -2.3029, -2.3020, -2.3017, -2.3022, -2.3032, -2.3030, -2.3034,\n",
      "         -2.3021, -2.3025],\n",
      "        [-2.3024, -2.3036, -2.3019, -2.3014, -2.3023, -2.3033, -2.3038, -2.3032,\n",
      "         -2.3018, -2.3022],\n",
      "        [-2.3029, -2.3041, -2.3011, -2.3010, -2.3018, -2.3035, -2.3049, -2.3035,\n",
      "         -2.3015, -2.3016],\n",
      "        [-2.3034, -2.3038, -2.3014, -2.3012, -2.3019, -2.3036, -2.3032, -2.3033,\n",
      "         -2.3019, -2.3021],\n",
      "        [-2.3024, -2.3043, -2.3007, -2.3011, -2.3022, -2.3038, -2.3051, -2.3033,\n",
      "         -2.3016, -2.3015],\n",
      "        [-2.3030, -2.3043, -2.3011, -2.3008, -2.3019, -2.3037, -2.3044, -2.3027,\n",
      "         -2.3017, -2.3023],\n",
      "        [-2.3030, -2.3040, -2.3013, -2.3006, -2.3016, -2.3035, -2.3042, -2.3035,\n",
      "         -2.3016, -2.3025],\n",
      "        [-2.3030, -2.3041, -2.3012, -2.3014, -2.3022, -2.3032, -2.3046, -2.3030,\n",
      "         -2.3013, -2.3020],\n",
      "        [-2.3031, -2.3024, -2.3016, -2.3020, -2.3022, -2.3034, -2.3034, -2.3039,\n",
      "         -2.3018, -2.3020],\n",
      "        [-2.3027, -2.3045, -2.3009, -2.3011, -2.3020, -2.3036, -2.3041, -2.3036,\n",
      "         -2.3014, -2.3020],\n",
      "        [-2.3028, -2.3043, -2.3009, -2.3010, -2.3018, -2.3038, -2.3045, -2.3035,\n",
      "         -2.3014, -2.3018],\n",
      "        [-2.3019, -2.3037, -2.3011, -2.3020, -2.3026, -2.3032, -2.3046, -2.3027,\n",
      "         -2.3017, -2.3024],\n",
      "        [-2.3027, -2.3036, -2.3014, -2.3013, -2.3021, -2.3036, -2.3041, -2.3026,\n",
      "         -2.3023, -2.3022],\n",
      "        [-2.3035, -2.3039, -2.3013, -2.3013, -2.3022, -2.3029, -2.3036, -2.3033,\n",
      "         -2.3009, -2.3029],\n",
      "        [-2.3024, -2.3031, -2.3016, -2.3022, -2.3027, -2.3033, -2.3039, -2.3030,\n",
      "         -2.3017, -2.3019],\n",
      "        [-2.3025, -2.3037, -2.3018, -2.3013, -2.3023, -2.3032, -2.3040, -2.3029,\n",
      "         -2.3018, -2.3022],\n",
      "        [-2.3031, -2.3031, -2.3020, -2.3020, -2.3026, -2.3032, -2.3039, -2.3029,\n",
      "         -2.3012, -2.3019],\n",
      "        [-2.3034, -2.3028, -2.3027, -2.3021, -2.3030, -2.3023, -2.3025, -2.3025,\n",
      "         -2.3019, -2.3026],\n",
      "        [-2.3025, -2.3045, -2.3009, -2.3009, -2.3025, -2.3038, -2.3048, -2.3028,\n",
      "         -2.3014, -2.3017],\n",
      "        [-2.3030, -2.3037, -2.3015, -2.3014, -2.3019, -2.3029, -2.3033, -2.3036,\n",
      "         -2.3016, -2.3030],\n",
      "        [-2.3028, -2.3039, -2.3014, -2.3013, -2.3019, -2.3033, -2.3048, -2.3021,\n",
      "         -2.3020, -2.3024],\n",
      "        [-2.3021, -2.3034, -2.3012, -2.3017, -2.3023, -2.3042, -2.3043, -2.3034,\n",
      "         -2.3018, -2.3015],\n",
      "        [-2.3033, -2.3041, -2.3017, -2.3018, -2.3020, -2.3025, -2.3037, -2.3029,\n",
      "         -2.3016, -2.3023],\n",
      "        [-2.3024, -2.3032, -2.3018, -2.3010, -2.3019, -2.3034, -2.3043, -2.3029,\n",
      "         -2.3023, -2.3026],\n",
      "        [-2.3022, -2.3028, -2.3018, -2.3025, -2.3033, -2.3034, -2.3038, -2.3031,\n",
      "         -2.3006, -2.3023],\n",
      "        [-2.3021, -2.3040, -2.3007, -2.3011, -2.3013, -2.3034, -2.3057, -2.3034,\n",
      "         -2.3022, -2.3020],\n",
      "        [-2.3020, -2.3032, -2.3011, -2.3020, -2.3020, -2.3036, -2.3042, -2.3035,\n",
      "         -2.3019, -2.3023],\n",
      "        [-2.3022, -2.3037, -2.3024, -2.3026, -2.3021, -2.3026, -2.3026, -2.3030,\n",
      "         -2.3020, -2.3026],\n",
      "        [-2.3026, -2.3034, -2.3014, -2.3016, -2.3015, -2.3033, -2.3043, -2.3030,\n",
      "         -2.3020, -2.3027],\n",
      "        [-2.3026, -2.3036, -2.3018, -2.3018, -2.3022, -2.3033, -2.3042, -2.3028,\n",
      "         -2.3017, -2.3019],\n",
      "        [-2.3023, -2.3040, -2.3015, -2.3014, -2.3016, -2.3032, -2.3041, -2.3033,\n",
      "         -2.3022, -2.3024],\n",
      "        [-2.3023, -2.3032, -2.3023, -2.3023, -2.3033, -2.3027, -2.3031, -2.3025,\n",
      "         -2.3018, -2.3023],\n",
      "        [-2.3033, -2.3035, -2.3013, -2.3014, -2.3020, -2.3033, -2.3042, -2.3030,\n",
      "         -2.3013, -2.3025],\n",
      "        [-2.3025, -2.3039, -2.3021, -2.3019, -2.3032, -2.3033, -2.3033, -2.3029,\n",
      "         -2.3012, -2.3016],\n",
      "        [-2.3026, -2.3031, -2.3018, -2.3013, -2.3018, -2.3029, -2.3038, -2.3031,\n",
      "         -2.3024, -2.3031],\n",
      "        [-2.3023, -2.3038, -2.3017, -2.3017, -2.3020, -2.3031, -2.3038, -2.3031,\n",
      "         -2.3017, -2.3026],\n",
      "        [-2.3027, -2.3038, -2.3026, -2.3014, -2.3037, -2.3026, -2.3038, -2.3014,\n",
      "         -2.3013, -2.3025],\n",
      "        [-2.3026, -2.3034, -2.3014, -2.3014, -2.3023, -2.3037, -2.3041, -2.3030,\n",
      "         -2.3019, -2.3020],\n",
      "        [-2.3024, -2.3036, -2.3009, -2.3019, -2.3019, -2.3034, -2.3046, -2.3034,\n",
      "         -2.3014, -2.3023],\n",
      "        [-2.3023, -2.3036, -2.3018, -2.3012, -2.3023, -2.3035, -2.3037, -2.3031,\n",
      "         -2.3019, -2.3023],\n",
      "        [-2.3028, -2.3043, -2.3009, -2.3012, -2.3020, -2.3037, -2.3042, -2.3036,\n",
      "         -2.3011, -2.3021],\n",
      "        [-2.3027, -2.3035, -2.3017, -2.3014, -2.3019, -2.3028, -2.3042, -2.3028,\n",
      "         -2.3025, -2.3024],\n",
      "        [-2.3027, -2.3030, -2.3024, -2.3016, -2.3027, -2.3027, -2.3033, -2.3036,\n",
      "         -2.3013, -2.3026],\n",
      "        [-2.3023, -2.3043, -2.3022, -2.3011, -2.3030, -2.3033, -2.3037, -2.3024,\n",
      "         -2.3011, -2.3023],\n",
      "        [-2.3021, -2.3042, -2.3014, -2.3017, -2.3030, -2.3035, -2.3041, -2.3027,\n",
      "         -2.3014, -2.3018],\n",
      "        [-2.3027, -2.3040, -2.3013, -2.3012, -2.3024, -2.3032, -2.3046, -2.3028,\n",
      "         -2.3015, -2.3022],\n",
      "        [-2.3026, -2.3039, -2.3011, -2.3014, -2.3020, -2.3039, -2.3041, -2.3038,\n",
      "         -2.3015, -2.3015],\n",
      "        [-2.3030, -2.3042, -2.3004, -2.3004, -2.3019, -2.3046, -2.3048, -2.3043,\n",
      "         -2.3011, -2.3012],\n",
      "        [-2.3026, -2.3045, -2.3011, -2.3007, -2.3017, -2.3036, -2.3049, -2.3034,\n",
      "         -2.3015, -2.3020],\n",
      "        [-2.3020, -2.3043, -2.3009, -2.3010, -2.3028, -2.3045, -2.3049, -2.3036,\n",
      "         -2.3006, -2.3013],\n",
      "        [-2.3031, -2.3034, -2.3013, -2.3011, -2.3017, -2.3032, -2.3044, -2.3030,\n",
      "         -2.3020, -2.3027],\n",
      "        [-2.3030, -2.3029, -2.3029, -2.3021, -2.3028, -2.3022, -2.3032, -2.3022,\n",
      "         -2.3018, -2.3029],\n",
      "        [-2.3029, -2.3042, -2.3005, -2.3013, -2.3020, -2.3036, -2.3050, -2.3024,\n",
      "         -2.3018, -2.3022],\n",
      "        [-2.3029, -2.3044, -2.3013, -2.3005, -2.3020, -2.3035, -2.3047, -2.3030,\n",
      "         -2.3017, -2.3017]], grad_fn=<LogBackward0>)\n"
     ]
    }
   ],
   "source": [
    "print(labels)\n",
    "print(outputs.log())"
   ]
  },
  {
   "cell_type": "code",
   "execution_count": 44,
   "metadata": {
    "colab": {
     "base_uri": "https://localhost:8080/",
     "height": 445
    },
    "id": "wNz5bq798T50",
    "outputId": "571cdb9c-3fd7-4d17-94bf-05e1c5ca5a07"
   },
   "outputs": [
    {
     "data": {
      "image/png": "[encoded data removed]",
      "text/plain": [
       "<Figure size 1400x700 with 1 Axes>"
      ]
     },
     "metadata": {},
     "output_type": "display_data"
    },
    {
     "name": "stdout",
     "output_type": "stream",
     "text": [
      "Правильна відповідь tensor(2)\n"
     ]
    }
   ],
   "source": [
    "plt.figure(figsize=(14,7))\n",
    "plt.imshow(trainX[4, 0], cmap='gray')\n",
    "plt.show()\n",
    "print('Правильна відповідь', trainY[8])"
   ]
  },
  {
   "cell_type": "code",
   "execution_count": 46,
   "metadata": {
    "colab": {
     "base_uri": "https://localhost:8080/"
    },
    "id": "n5quBTF88T57",
    "outputId": "701a7da3-3d57-43b9-edb6-f13e6fa032c4"
   },
   "outputs": [
    {
     "name": "stdout",
     "output_type": "stream",
     "text": [
      "tensor([[3.1674e-03, 2.9371e-04, 8.3780e-01, 1.8303e-03, 1.5085e-04, 3.1786e-03,\n",
      "         1.4210e-01, 1.6678e-05, 1.1426e-02, 3.9432e-05]])\n",
      "torch.return_types.max(\n",
      "values=tensor([0.8378]),\n",
      "indices=tensor([2]))\n"
     ]
    }
   ],
   "source": [
    "x = model(trainX[4].view(-1, 784)).detach()\n",
    "print(x.data)\n",
    "print(torch.max(x.data,dim=1)) # відповідь у вигляді ймовірностей\n"
   ]
  },
  {
   "cell_type": "markdown",
   "metadata": {
    "id": "dbDg-OmsL-uS"
   },
   "source": [
    "## Перевірка роботи моделі"
   ]
  },
  {
   "cell_type": "code",
   "execution_count": 47,
   "metadata": {
    "colab": {
     "base_uri": "https://localhost:8080/"
    },
    "id": "odBwDCz-8T7_",
    "outputId": "9aa26921-a20e-4d79-93f7-1720f833800a"
   },
   "outputs": [
    {
     "name": "stdout",
     "output_type": "stream",
     "text": [
      "Точність для 10000 картинок: 85 %\n"
     ]
    }
   ],
   "source": [
    "correct = 0\n",
    "total = 0\n",
    "\n",
    "model.eval() # режим перевірки\n",
    "\n",
    "for images, labels in testLoader: # ітеруємо по перевірочному датасету\n",
    "    images = images.view(-1, 28*28) # наводимо до потрібного формату\n",
    "    result = labels\n",
    "    outputs = model(images) # робимо прогноз\n",
    "    _, predicted = torch.max(outputs.data, 1) # _ максимальне значення пропускаємо, нас цікавить, що це за цифра\n",
    "    total += labels.size(0) # 0 - перше/єдине значення\n",
    "    correct += (predicted == labels).sum() \n",
    "    \n",
    "print('Точність для 10000 картинок: %d %%' % (100 * correct // total))"
   ]
  },
  {
   "cell_type": "code",
   "execution_count": 48,
   "metadata": {
    "colab": {
     "base_uri": "https://localhost:8080/"
    },
    "id": "qdo88SB6juGo",
    "outputId": "09fb363f-2606-4431-f4bf-02e8b5d439a0"
   },
   "outputs": [
    {
     "name": "stdout",
     "output_type": "stream",
     "text": [
      "tensor([0.0053, 0.0625, 0.0647, 0.0985, 0.0047, 0.0731, 0.0078, 0.0042, 0.6700,\n",
      "        0.0092], grad_fn=<SelectBackward0>) torch.return_types.max(\n",
      "values=tensor([0.6700, 0.4878, 0.8567, 0.7099, 0.3254, 0.6556, 0.4127, 0.2078, 0.9465,\n",
      "        0.8615, 0.4750, 0.9332, 0.4865, 0.5716, 0.2833, 0.6674, 0.6809, 0.7910,\n",
      "        0.5093, 0.7232, 0.8100, 0.8318, 0.3395, 0.8869, 0.4620, 0.2462, 0.3751,\n",
      "        0.6641, 0.6066, 0.8830, 0.8501, 0.9291, 0.4639, 0.6020, 0.5854, 0.8895,\n",
      "        0.6213, 0.4131, 0.9182, 0.9611, 0.4857, 0.3449, 0.8282, 0.3898, 0.3577,\n",
      "        0.6397, 0.9055, 0.4044, 0.7250, 0.8460, 0.8792, 0.7354, 0.9145, 0.5314,\n",
      "        0.3515, 0.3776, 0.8163, 0.8052, 0.6669, 0.2696, 0.5235, 0.9193, 0.6683,\n",
      "        0.8853, 0.8234, 0.6960, 0.8753, 0.6098, 0.9106, 0.8972, 0.3632, 0.8402,\n",
      "        0.6085, 0.5277, 0.7087, 0.4436, 0.6692, 0.6326, 0.8268, 0.8259, 0.2807,\n",
      "        0.6197, 0.7651, 0.9763, 0.9262, 0.3118, 0.5015, 0.7388, 0.6656, 0.9811,\n",
      "        0.9348, 0.4805, 0.5186, 0.8289, 0.9499, 0.9820, 0.9501, 0.5698, 0.3902,\n",
      "        0.9885]),\n",
      "indices=tensor([8, 9, 0, 1, 2, 7, 4, 2, 6, 7, 8, 0, 1, 2, 3, 4, 7, 8, 9, 7, 8, 6, 4, 1,\n",
      "        9, 8, 8, 4, 4, 7, 0, 1, 9, 2, 8, 7, 8, 2, 6, 0, 0, 6, 3, 8, 8, 9, 1, 6,\n",
      "        0, 6, 1, 0, 0, 0, 0, 1, 1, 7, 7, 1, 4, 6, 0, 7, 0, 3, 6, 8, 7, 1, 3, 2,\n",
      "        4, 9, 4, 2, 6, 4, 1, 7, 0, 6, 2, 0, 1, 2, 3, 4, 5, 6, 7, 8, 4, 0, 1, 2,\n",
      "        3, 4, 8, 6]))\n",
      "tensor([8, 9, 0, 1, 2, 3, 4, 5, 6, 7, 8, 0, 1, 2, 3, 4, 7, 8, 9, 7, 8, 6, 4, 1,\n",
      "        9, 3, 8, 4, 4, 7, 0, 1, 9, 2, 8, 7, 8, 2, 6, 0, 6, 5, 3, 3, 3, 9, 1, 4,\n",
      "        0, 6, 1, 0, 0, 6, 2, 1, 1, 7, 7, 8, 4, 6, 0, 7, 0, 3, 6, 8, 7, 1, 5, 2,\n",
      "        4, 9, 4, 3, 6, 4, 1, 7, 2, 6, 5, 0, 1, 2, 3, 4, 5, 6, 7, 8, 9, 0, 1, 2,\n",
      "        3, 4, 5, 6])\n"
     ]
    }
   ],
   "source": [
    "print(outputs[0], torch.max(outputs.data, 1))\n",
    "print(result)"
   ]
  },
  {
   "cell_type": "markdown",
   "metadata": {},
   "source": [
    "## **Візуалізація нейромережі**"
   ]
  },
  {
   "cell_type": "code",
   "execution_count": 49,
   "metadata": {},
   "outputs": [
    {
     "name": "stdout",
     "output_type": "stream",
     "text": [
      "Classification(\n",
      "  (layer1): Linear(in_features=784, out_features=500, bias=True)\n",
      "  (relu): ReLU()\n",
      "  (layer2): Linear(in_features=500, out_features=100, bias=True)\n",
      "  (layer3): Linear(in_features=100, out_features=10, bias=True)\n",
      "  (softmax): Softmax(dim=1)\n",
      ")\n"
     ]
    }
   ],
   "source": [
    "print(model)"
   ]
  },
  {
   "cell_type": "code",
   "execution_count": 50,
   "metadata": {},
   "outputs": [],
   "source": [
    "# !pip install torchviz"
   ]
  },
  {
   "cell_type": "code",
   "execution_count": 51,
   "metadata": {},
   "outputs": [],
   "source": [
    "import torchviz"
   ]
  },
  {
   "cell_type": "code",
   "execution_count": 52,
   "metadata": {},
   "outputs": [
    {
     "data": {
      "text/plain": [
       "<generator object Module.named_parameters at 0x000002D60B2CDA10>"
      ]
     },
     "execution_count": 52,
     "metadata": {},
     "output_type": "execute_result"
    }
   ],
   "source": [
    "model.named_parameters()"
   ]
  },
  {
   "cell_type": "code",
   "execution_count": 53,
   "metadata": {
    "scrolled": true
   },
   "outputs": [
    {
     "data": {
      "image/svg+xml": [
       "<?xml version=\"1.0\" encoding=\"UTF-8\" standalone=\"no\"?>\n",
       "<!DOCTYPE svg PUBLIC \"-//W3C//DTD SVG 1.1//EN\"\n",
       " \"http://www.w3.org/Graphics/SVG/1.1/DTD/svg11.dtd\">\n",
       "<!-- Generated by graphviz version 8.1.0 (20230707.0739)\n",
       " -->\n",
       "<!-- Pages: 1 -->\n",
       "<svg width=\"426pt\" height=\"616pt\"\n",
       " viewBox=\"0.00 0.00 426.00 616.00\" xmlns=\"http://www.w3.org/2000/svg\" xmlns:xlink=\"http://www.w3.org/1999/xlink\">\n",
       "<g id=\"graph0\" class=\"graph\" transform=\"scale(1 1) rotate(0) translate(4 612)\">\n",
       "<polygon fill=\"white\" stroke=\"none\" points=\"-4,4 -4,-612 422,-612 422,4 -4,4\"/>\n",
       "<!-- 3118333259712 -->\n",
       "<g id=\"node1\" class=\"node\">\n",
       "<title>3118333259712</title>\n",
       "<polygon fill=\"#caff70\" stroke=\"black\" points=\"228,-32 152,-32 152,0 228,0 228,-32\"/>\n",
       "<text text-anchor=\"middle\" x=\"190\" y=\"-6.5\" font-family=\"monospace\" font-size=\"10.00\"> (100, 10)</text>\n",
       "</g>\n",
       "<!-- 3118333914528 -->\n",
       "<g id=\"node2\" class=\"node\">\n",
       "<title>3118333914528</title>\n",
       "<polygon fill=\"lightgrey\" stroke=\"black\" points=\"246,-88 134,-88 134,-68 246,-68 246,-88\"/>\n",
       "<text text-anchor=\"middle\" x=\"190\" y=\"-74.5\" font-family=\"monospace\" font-size=\"10.00\">SoftmaxBackward0</text>\n",
       "</g>\n",
       "<!-- 3118333914528&#45;&gt;3118333259712 -->\n",
       "<g id=\"edge21\" class=\"edge\">\n",
       "<title>3118333914528&#45;&gt;3118333259712</title>\n",
       "<path fill=\"none\" stroke=\"black\" d=\"M190,-67.63C190,-61.02 190,-51.84 190,-43.11\"/>\n",
       "<polygon fill=\"black\" stroke=\"black\" points=\"193.5,-43.14 190,-33.14 186.5,-43.14 193.5,-43.14\"/>\n",
       "</g>\n",
       "<!-- 3118333915152 -->\n",
       "<g id=\"node3\" class=\"node\">\n",
       "<title>3118333915152</title>\n",
       "<polygon fill=\"lightgrey\" stroke=\"black\" points=\"240,-144 140,-144 140,-124 240,-124 240,-144\"/>\n",
       "<text text-anchor=\"middle\" x=\"190\" y=\"-130.5\" font-family=\"monospace\" font-size=\"10.00\">AddmmBackward0</text>\n",
       "</g>\n",
       "<!-- 3118333915152&#45;&gt;3118333914528 -->\n",
       "<g id=\"edge1\" class=\"edge\">\n",
       "<title>3118333915152&#45;&gt;3118333914528</title>\n",
       "<path fill=\"none\" stroke=\"black\" d=\"M190,-123.59C190,-116.86 190,-107.53 190,-99.15\"/>\n",
       "<polygon fill=\"black\" stroke=\"black\" points=\"193.5,-99.3 190,-89.3 186.5,-99.3 193.5,-99.3\"/>\n",
       "</g>\n",
       "<!-- 3118333914672 -->\n",
       "<g id=\"node4\" class=\"node\">\n",
       "<title>3118333914672</title>\n",
       "<polygon fill=\"lightgrey\" stroke=\"black\" points=\"125,-200 25,-200 25,-180 125,-180 125,-200\"/>\n",
       "<text text-anchor=\"middle\" x=\"75\" y=\"-186.5\" font-family=\"monospace\" font-size=\"10.00\">AccumulateGrad</text>\n",
       "</g>\n",
       "<!-- 3118333914672&#45;&gt;3118333915152 -->\n",
       "<g id=\"edge2\" class=\"edge\">\n",
       "<title>3118333914672&#45;&gt;3118333915152</title>\n",
       "<path fill=\"none\" stroke=\"black\" d=\"M95.03,-179.59C112.98,-171.17 139.55,-158.69 160.03,-149.07\"/>\n",
       "<polygon fill=\"black\" stroke=\"black\" points=\"161.25,-151.9 168.81,-144.48 158.27,-145.56 161.25,-151.9\"/>\n",
       "</g>\n",
       "<!-- 3118329369424 -->\n",
       "<g id=\"node5\" class=\"node\">\n",
       "<title>3118329369424</title>\n",
       "<polygon fill=\"lightblue\" stroke=\"black\" points=\"116,-268 34,-268 34,-236 116,-236 116,-268\"/>\n",
       "<text text-anchor=\"middle\" x=\"75\" y=\"-254.5\" font-family=\"monospace\" font-size=\"10.00\">layer3.bias</text>\n",
       "<text text-anchor=\"middle\" x=\"75\" y=\"-242.5\" font-family=\"monospace\" font-size=\"10.00\"> (10)</text>\n",
       "</g>\n",
       "<!-- 3118329369424&#45;&gt;3118333914672 -->\n",
       "<g id=\"edge3\" class=\"edge\">\n",
       "<title>3118329369424&#45;&gt;3118333914672</title>\n",
       "<path fill=\"none\" stroke=\"black\" d=\"M75,-235.55C75,-228.17 75,-219.24 75,-211.32\"/>\n",
       "<polygon fill=\"black\" stroke=\"black\" points=\"78.5,-211.41 75,-201.41 71.5,-211.41 78.5,-211.41\"/>\n",
       "</g>\n",
       "<!-- 3118333915008 -->\n",
       "<g id=\"node6\" class=\"node\">\n",
       "<title>3118333915008</title>\n",
       "<polygon fill=\"lightgrey\" stroke=\"black\" points=\"237,-200 143,-200 143,-180 237,-180 237,-200\"/>\n",
       "<text text-anchor=\"middle\" x=\"190\" y=\"-186.5\" font-family=\"monospace\" font-size=\"10.00\">ReluBackward0</text>\n",
       "</g>\n",
       "<!-- 3118333915008&#45;&gt;3118333915152 -->\n",
       "<g id=\"edge4\" class=\"edge\">\n",
       "<title>3118333915008&#45;&gt;3118333915152</title>\n",
       "<path fill=\"none\" stroke=\"black\" d=\"M190,-179.59C190,-172.86 190,-163.53 190,-155.15\"/>\n",
       "<polygon fill=\"black\" stroke=\"black\" points=\"193.5,-155.3 190,-145.3 186.5,-155.3 193.5,-155.3\"/>\n",
       "</g>\n",
       "<!-- 3118333914624 -->\n",
       "<g id=\"node7\" class=\"node\">\n",
       "<title>3118333914624</title>\n",
       "<polygon fill=\"lightgrey\" stroke=\"black\" points=\"237,-262 137,-262 137,-242 237,-242 237,-262\"/>\n",
       "<text text-anchor=\"middle\" x=\"187\" y=\"-248.5\" font-family=\"monospace\" font-size=\"10.00\">AddmmBackward0</text>\n",
       "</g>\n",
       "<!-- 3118333914624&#45;&gt;3118333915008 -->\n",
       "<g id=\"edge5\" class=\"edge\">\n",
       "<title>3118333914624&#45;&gt;3118333915008</title>\n",
       "<path fill=\"none\" stroke=\"black\" d=\"M187.47,-241.63C187.88,-233.48 188.48,-221.39 189,-211.07\"/>\n",
       "<polygon fill=\"black\" stroke=\"black\" points=\"192.54,-211.28 189.54,-201.11 185.55,-210.93 192.54,-211.28\"/>\n",
       "</g>\n",
       "<!-- 3118333913760 -->\n",
       "<g id=\"node8\" class=\"node\">\n",
       "<title>3118333913760</title>\n",
       "<polygon fill=\"lightgrey\" stroke=\"black\" points=\"100,-330 0,-330 0,-310 100,-310 100,-330\"/>\n",
       "<text text-anchor=\"middle\" x=\"50\" y=\"-316.5\" font-family=\"monospace\" font-size=\"10.00\">AccumulateGrad</text>\n",
       "</g>\n",
       "<!-- 3118333913760&#45;&gt;3118333914624 -->\n",
       "<g id=\"edge6\" class=\"edge\">\n",
       "<title>3118333913760&#45;&gt;3118333914624</title>\n",
       "<path fill=\"none\" stroke=\"black\" d=\"M69.63,-309.54C92.62,-298.47 130.94,-280.01 157.51,-267.21\"/>\n",
       "<polygon fill=\"black\" stroke=\"black\" points=\"158.92,-269.93 166.41,-262.44 155.88,-263.63 158.92,-269.93\"/>\n",
       "</g>\n",
       "<!-- 3118310273600 -->\n",
       "<g id=\"node9\" class=\"node\">\n",
       "<title>3118310273600</title>\n",
       "<polygon fill=\"lightblue\" stroke=\"black\" points=\"91,-404 9,-404 9,-372 91,-372 91,-404\"/>\n",
       "<text text-anchor=\"middle\" x=\"50\" y=\"-390.5\" font-family=\"monospace\" font-size=\"10.00\">layer2.bias</text>\n",
       "<text text-anchor=\"middle\" x=\"50\" y=\"-378.5\" font-family=\"monospace\" font-size=\"10.00\"> (100)</text>\n",
       "</g>\n",
       "<!-- 3118310273600&#45;&gt;3118333913760 -->\n",
       "<g id=\"edge7\" class=\"edge\">\n",
       "<title>3118310273600&#45;&gt;3118333913760</title>\n",
       "<path fill=\"none\" stroke=\"black\" d=\"M50,-371.69C50,-362.6 50,-350.95 50,-341.12\"/>\n",
       "<polygon fill=\"black\" stroke=\"black\" points=\"53.5,-341.32 50,-331.32 46.5,-341.32 53.5,-341.32\"/>\n",
       "</g>\n",
       "<!-- 3118333913808 -->\n",
       "<g id=\"node10\" class=\"node\">\n",
       "<title>3118333913808</title>\n",
       "<polygon fill=\"lightgrey\" stroke=\"black\" points=\"212,-330 118,-330 118,-310 212,-310 212,-330\"/>\n",
       "<text text-anchor=\"middle\" x=\"165\" y=\"-316.5\" font-family=\"monospace\" font-size=\"10.00\">ReluBackward0</text>\n",
       "</g>\n",
       "<!-- 3118333913808&#45;&gt;3118333914624 -->\n",
       "<g id=\"edge8\" class=\"edge\">\n",
       "<title>3118333913808&#45;&gt;3118333914624</title>\n",
       "<path fill=\"none\" stroke=\"black\" d=\"M168.15,-309.54C171.35,-299.94 176.41,-284.78 180.48,-272.57\"/>\n",
       "<polygon fill=\"black\" stroke=\"black\" points=\"184.01,-274.03 183.85,-263.44 177.37,-271.82 184.01,-274.03\"/>\n",
       "</g>\n",
       "<!-- 3118333914480 -->\n",
       "<g id=\"node11\" class=\"node\">\n",
       "<title>3118333914480</title>\n",
       "<polygon fill=\"lightgrey\" stroke=\"black\" points=\"212,-398 112,-398 112,-378 212,-378 212,-398\"/>\n",
       "<text text-anchor=\"middle\" x=\"162\" y=\"-384.5\" font-family=\"monospace\" font-size=\"10.00\">AddmmBackward0</text>\n",
       "</g>\n",
       "<!-- 3118333914480&#45;&gt;3118333913808 -->\n",
       "<g id=\"edge9\" class=\"edge\">\n",
       "<title>3118333914480&#45;&gt;3118333913808</title>\n",
       "<path fill=\"none\" stroke=\"black\" d=\"M162.43,-377.54C162.86,-368.13 163.53,-353.39 164.08,-341.32\"/>\n",
       "<polygon fill=\"black\" stroke=\"black\" points=\"167.61,-341.59 164.57,-331.44 160.62,-341.27 167.61,-341.59\"/>\n",
       "</g>\n",
       "<!-- 3118333913472 -->\n",
       "<g id=\"node12\" class=\"node\">\n",
       "<title>3118333913472</title>\n",
       "<polygon fill=\"lightgrey\" stroke=\"black\" points=\"112,-466 12,-466 12,-446 112,-446 112,-466\"/>\n",
       "<text text-anchor=\"middle\" x=\"62\" y=\"-452.5\" font-family=\"monospace\" font-size=\"10.00\">AccumulateGrad</text>\n",
       "</g>\n",
       "<!-- 3118333913472&#45;&gt;3118333914480 -->\n",
       "<g id=\"edge10\" class=\"edge\">\n",
       "<title>3118333913472&#45;&gt;3118333914480</title>\n",
       "<path fill=\"none\" stroke=\"black\" d=\"M76.33,-445.54C92.59,-434.81 119.36,-417.14 138.65,-404.41\"/>\n",
       "<polygon fill=\"black\" stroke=\"black\" points=\"140.28,-406.87 146.7,-398.44 136.42,-401.03 140.28,-406.87\"/>\n",
       "</g>\n",
       "<!-- 3118329368624 -->\n",
       "<g id=\"node13\" class=\"node\">\n",
       "<title>3118329368624</title>\n",
       "<polygon fill=\"lightblue\" stroke=\"black\" points=\"102,-540 20,-540 20,-508 102,-508 102,-540\"/>\n",
       "<text text-anchor=\"middle\" x=\"61\" y=\"-526.5\" font-family=\"monospace\" font-size=\"10.00\">layer1.bias</text>\n",
       "<text text-anchor=\"middle\" x=\"61\" y=\"-514.5\" font-family=\"monospace\" font-size=\"10.00\"> (500)</text>\n",
       "</g>\n",
       "<!-- 3118329368624&#45;&gt;3118333913472 -->\n",
       "<g id=\"edge11\" class=\"edge\">\n",
       "<title>3118329368624&#45;&gt;3118333913472</title>\n",
       "<path fill=\"none\" stroke=\"black\" d=\"M61.23,-507.69C61.37,-498.6 61.55,-486.95 61.7,-477.12\"/>\n",
       "<polygon fill=\"black\" stroke=\"black\" points=\"65.21,-477.37 61.86,-467.32 58.21,-477.26 65.21,-477.37\"/>\n",
       "</g>\n",
       "<!-- 3118333913520 -->\n",
       "<g id=\"node14\" class=\"node\">\n",
       "<title>3118333913520</title>\n",
       "<polygon fill=\"lightgrey\" stroke=\"black\" points=\"207,-466 131,-466 131,-446 207,-446 207,-466\"/>\n",
       "<text text-anchor=\"middle\" x=\"169\" y=\"-452.5\" font-family=\"monospace\" font-size=\"10.00\">TBackward0</text>\n",
       "</g>\n",
       "<!-- 3118333913520&#45;&gt;3118333914480 -->\n",
       "<g id=\"edge12\" class=\"edge\">\n",
       "<title>3118333913520&#45;&gt;3118333914480</title>\n",
       "<path fill=\"none\" stroke=\"black\" d=\"M168,-445.54C167,-436.13 165.44,-421.39 164.16,-409.32\"/>\n",
       "<polygon fill=\"black\" stroke=\"black\" points=\"167.54,-409.01 163,-399.44 160.58,-409.75 167.54,-409.01\"/>\n",
       "</g>\n",
       "<!-- 3118333913424 -->\n",
       "<g id=\"node15\" class=\"node\">\n",
       "<title>3118333913424</title>\n",
       "<polygon fill=\"lightgrey\" stroke=\"black\" points=\"220,-534 120,-534 120,-514 220,-514 220,-534\"/>\n",
       "<text text-anchor=\"middle\" x=\"170\" y=\"-520.5\" font-family=\"monospace\" font-size=\"10.00\">AccumulateGrad</text>\n",
       "</g>\n",
       "<!-- 3118333913424&#45;&gt;3118333913520 -->\n",
       "<g id=\"edge13\" class=\"edge\">\n",
       "<title>3118333913424&#45;&gt;3118333913520</title>\n",
       "<path fill=\"none\" stroke=\"black\" d=\"M169.86,-513.54C169.71,-504.13 169.49,-489.39 169.31,-477.32\"/>\n",
       "<polygon fill=\"black\" stroke=\"black\" points=\"172.79,-477.38 169.14,-467.44 165.79,-477.49 172.79,-477.38\"/>\n",
       "</g>\n",
       "<!-- 3118329379344 -->\n",
       "<g id=\"node16\" class=\"node\">\n",
       "<title>3118329379344</title>\n",
       "<polygon fill=\"lightblue\" stroke=\"black\" points=\"217,-608 123,-608 123,-576 217,-576 217,-608\"/>\n",
       "<text text-anchor=\"middle\" x=\"170\" y=\"-594.5\" font-family=\"monospace\" font-size=\"10.00\">layer1.weight</text>\n",
       "<text text-anchor=\"middle\" x=\"170\" y=\"-582.5\" font-family=\"monospace\" font-size=\"10.00\"> (500, 784)</text>\n",
       "</g>\n",
       "<!-- 3118329379344&#45;&gt;3118333913424 -->\n",
       "<g id=\"edge14\" class=\"edge\">\n",
       "<title>3118329379344&#45;&gt;3118333913424</title>\n",
       "<path fill=\"none\" stroke=\"black\" d=\"M170,-575.69C170,-566.6 170,-554.95 170,-545.12\"/>\n",
       "<polygon fill=\"black\" stroke=\"black\" points=\"173.5,-545.32 170,-535.32 166.5,-545.32 173.5,-545.32\"/>\n",
       "</g>\n",
       "<!-- 3118333913856 -->\n",
       "<g id=\"node17\" class=\"node\">\n",
       "<title>3118333913856</title>\n",
       "<polygon fill=\"lightgrey\" stroke=\"black\" points=\"306,-330 230,-330 230,-310 306,-310 306,-330\"/>\n",
       "<text text-anchor=\"middle\" x=\"268\" y=\"-316.5\" font-family=\"monospace\" font-size=\"10.00\">TBackward0</text>\n",
       "</g>\n",
       "<!-- 3118333913856&#45;&gt;3118333914624 -->\n",
       "<g id=\"edge15\" class=\"edge\">\n",
       "<title>3118333913856&#45;&gt;3118333914624</title>\n",
       "<path fill=\"none\" stroke=\"black\" d=\"M256.39,-309.54C243.52,-299.06 222.53,-281.95 206.99,-269.29\"/>\n",
       "<polygon fill=\"black\" stroke=\"black\" points=\"209.55,-266.04 199.58,-262.44 205.13,-271.47 209.55,-266.04\"/>\n",
       "</g>\n",
       "<!-- 3118333913328 -->\n",
       "<g id=\"node18\" class=\"node\">\n",
       "<title>3118333913328</title>\n",
       "<polygon fill=\"lightgrey\" stroke=\"black\" points=\"330,-398 230,-398 230,-378 330,-378 330,-398\"/>\n",
       "<text text-anchor=\"middle\" x=\"280\" y=\"-384.5\" font-family=\"monospace\" font-size=\"10.00\">AccumulateGrad</text>\n",
       "</g>\n",
       "<!-- 3118333913328&#45;&gt;3118333913856 -->\n",
       "<g id=\"edge16\" class=\"edge\">\n",
       "<title>3118333913328&#45;&gt;3118333913856</title>\n",
       "<path fill=\"none\" stroke=\"black\" d=\"M278.28,-377.54C276.55,-368.04 273.83,-353.09 271.63,-340.95\"/>\n",
       "<polygon fill=\"black\" stroke=\"black\" points=\"274.95,-340.65 269.72,-331.44 268.06,-341.9 274.95,-340.65\"/>\n",
       "</g>\n",
       "<!-- 3118310276720 -->\n",
       "<g id=\"node19\" class=\"node\">\n",
       "<title>3118310276720</title>\n",
       "<polygon fill=\"lightblue\" stroke=\"black\" points=\"327,-472 233,-472 233,-440 327,-440 327,-472\"/>\n",
       "<text text-anchor=\"middle\" x=\"280\" y=\"-458.5\" font-family=\"monospace\" font-size=\"10.00\">layer2.weight</text>\n",
       "<text text-anchor=\"middle\" x=\"280\" y=\"-446.5\" font-family=\"monospace\" font-size=\"10.00\"> (100, 500)</text>\n",
       "</g>\n",
       "<!-- 3118310276720&#45;&gt;3118333913328 -->\n",
       "<g id=\"edge17\" class=\"edge\">\n",
       "<title>3118310276720&#45;&gt;3118333913328</title>\n",
       "<path fill=\"none\" stroke=\"black\" d=\"M280,-439.69C280,-430.6 280,-418.95 280,-409.12\"/>\n",
       "<polygon fill=\"black\" stroke=\"black\" points=\"283.5,-409.32 280,-399.32 276.5,-409.32 283.5,-409.32\"/>\n",
       "</g>\n",
       "<!-- 3118333914864 -->\n",
       "<g id=\"node20\" class=\"node\">\n",
       "<title>3118333914864</title>\n",
       "<polygon fill=\"lightgrey\" stroke=\"black\" points=\"359,-200 283,-200 283,-180 359,-180 359,-200\"/>\n",
       "<text text-anchor=\"middle\" x=\"321\" y=\"-186.5\" font-family=\"monospace\" font-size=\"10.00\">TBackward0</text>\n",
       "</g>\n",
       "<!-- 3118333914864&#45;&gt;3118333915152 -->\n",
       "<g id=\"edge18\" class=\"edge\">\n",
       "<title>3118333914864&#45;&gt;3118333915152</title>\n",
       "<path fill=\"none\" stroke=\"black\" d=\"M298.18,-179.59C277.36,-171.01 246.36,-158.23 222.87,-148.55\"/>\n",
       "<polygon fill=\"black\" stroke=\"black\" points=\"224.58,-145.05 214,-144.48 221.91,-151.53 224.58,-145.05\"/>\n",
       "</g>\n",
       "<!-- 3118333914816 -->\n",
       "<g id=\"node21\" class=\"node\">\n",
       "<title>3118333914816</title>\n",
       "<polygon fill=\"lightgrey\" stroke=\"black\" points=\"399,-262 299,-262 299,-242 399,-242 399,-262\"/>\n",
       "<text text-anchor=\"middle\" x=\"349\" y=\"-248.5\" font-family=\"monospace\" font-size=\"10.00\">AccumulateGrad</text>\n",
       "</g>\n",
       "<!-- 3118333914816&#45;&gt;3118333914864 -->\n",
       "<g id=\"edge19\" class=\"edge\">\n",
       "<title>3118333914816&#45;&gt;3118333914864</title>\n",
       "<path fill=\"none\" stroke=\"black\" d=\"M344.63,-241.63C340.7,-233.21 334.81,-220.6 329.9,-210.07\"/>\n",
       "<polygon fill=\"black\" stroke=\"black\" points=\"332.65,-208.69 325.25,-201.11 326.31,-211.65 332.65,-208.69\"/>\n",
       "</g>\n",
       "<!-- 3118329372144 -->\n",
       "<g id=\"node22\" class=\"node\">\n",
       "<title>3118329372144</title>\n",
       "<polygon fill=\"lightblue\" stroke=\"black\" points=\"418,-336 324,-336 324,-304 418,-304 418,-336\"/>\n",
       "<text text-anchor=\"middle\" x=\"371\" y=\"-322.5\" font-family=\"monospace\" font-size=\"10.00\">layer3.weight</text>\n",
       "<text text-anchor=\"middle\" x=\"371\" y=\"-310.5\" font-family=\"monospace\" font-size=\"10.00\"> (10, 100)</text>\n",
       "</g>\n",
       "<!-- 3118329372144&#45;&gt;3118333914816 -->\n",
       "<g id=\"edge20\" class=\"edge\">\n",
       "<title>3118329372144&#45;&gt;3118333914816</title>\n",
       "<path fill=\"none\" stroke=\"black\" d=\"M365.9,-303.69C362.8,-294.4 358.81,-282.44 355.49,-272.47\"/>\n",
       "<polygon fill=\"black\" stroke=\"black\" points=\"358.59,-271.7 352.11,-263.32 351.95,-273.91 358.59,-271.7\"/>\n",
       "</g>\n",
       "</g>\n",
       "</svg>\n"
      ],
      "text/plain": [
       "<graphviz.graphs.Digraph at 0x2d60b2f6dd0>"
      ]
     },
     "execution_count": 53,
     "metadata": {},
     "output_type": "execute_result"
    }
   ],
   "source": [
    "torchviz.make_dot(model(images), params=dict(model.named_parameters()))"
   ]
  },
  {
   "cell_type": "code",
   "execution_count": 122,
   "metadata": {},
   "outputs": [
    {
     "data": {
      "text/plain": [
       "torch.Size([100, 784])"
      ]
     },
     "execution_count": 122,
     "metadata": {},
     "output_type": "execute_result"
    }
   ],
   "source": [
    "model_zm = Classification(inputSize, hidden,hidden2, numClasses) # Створюємо об'єкт нашої повної мережі\n",
    "trainX.view(-1, 28*28).shape"
   ]
  },
  {
   "cell_type": "markdown",
   "metadata": {
    "id": "zjhHlFLC8T5f"
   },
   "source": [
    "## змінені функція помилки та оптимізатор"
   ]
  },
  {
   "cell_type": "code",
   "execution_count": 123,
   "metadata": {
    "scrolled": true
   },
   "outputs": [
    {
     "data": {
      "text/plain": [
       "Classification(\n",
       "  (layer1): Linear(in_features=784, out_features=500, bias=True)\n",
       "  (relu): ReLU()\n",
       "  (layer2): Linear(in_features=500, out_features=100, bias=True)\n",
       "  (layer3): Linear(in_features=100, out_features=10, bias=True)\n",
       "  (softmax): Softmax(dim=1)\n",
       ")"
      ]
     },
     "execution_count": 123,
     "metadata": {},
     "output_type": "execute_result"
    }
   ],
   "source": [
    "criterion = nn.MSELoss()\n",
    "optimizer = torch.optim.Adam(model_zm.parameters(), lr=learningRate)  # оптимізатор\n",
    "losses = [] # тут буде додаватись середня похибка. Список будемо використовувати для побудови графіка\n",
    "model_zm.train() # перехід у режим навчання (опціонально)"
   ]
  },
  {
   "cell_type": "code",
   "execution_count": 124,
   "metadata": {},
   "outputs": [],
   "source": [
    "batchSize = 100"
   ]
  },
  {
   "cell_type": "markdown",
   "metadata": {
    "id": "p3l7UxjXJvzq"
   },
   "source": [
    "## Навчаємо модель"
   ]
  },
  {
   "cell_type": "code",
   "execution_count": 125,
   "metadata": {
    "id": "p3l7UxjXJvzq",
    "scrolled": true
   },
   "outputs": [
    {
     "name": "stderr",
     "output_type": "stream",
     "text": [
      "F:\\data_science_course\\git\\lib\\site-packages\\torch\\nn\\modules\\loss.py:535: UserWarning: Using a target size (torch.Size([100, 1])) that is different to the input size (torch.Size([100, 10])). This will likely lead to incorrect results due to broadcasting. Please ensure they have the same size.\n",
      "  return F.mse_loss(input, target, reduction=self.reduction)\n"
     ]
    },
    {
     "name": "stdout",
     "output_type": "stream",
     "text": [
      "Епоха: [1/20], Похибка: 50.5160\n",
      "Епоха: [2/20], Похибка: 52.6365\n",
      "Епоха: [3/20], Похибка: 55.8257\n",
      "Епоха: [4/20], Похибка: 50.5878\n",
      "Епоха: [5/20], Похибка: 52.2844\n",
      "Епоха: [6/20], Похибка: 55.9257\n",
      "Епоха: [7/20], Похибка: 49.0031\n",
      "Епоха: [8/20], Похибка: 52.7731\n",
      "Епоха: [9/20], Похибка: 59.9909\n",
      "Епоха: [10/20], Похибка: 46.8144\n",
      "Епоха: [11/20], Похибка: 50.4552\n",
      "Епоха: [12/20], Похибка: 53.6691\n",
      "Епоха: [13/20], Похибка: 59.0588\n",
      "Епоха: [14/20], Похибка: 49.4231\n",
      "Епоха: [15/20], Похибка: 58.5586\n",
      "Епоха: [16/20], Похибка: 64.9688\n",
      "Епоха: [17/20], Похибка: 49.1310\n",
      "Епоха: [18/20], Похибка: 58.1062\n",
      "Епоха: [19/20], Похибка: 52.1118\n",
      "Епоха: [20/20], Похибка: 53.8568\n"
     ]
    },
    {
     "data": {
      "image/png": "[encoded data removed]",
      "text/plain": [
       "<Figure size 1400x700 with 1 Axes>"
      ]
     },
     "metadata": {},
     "output_type": "display_data"
    }
   ],
   "source": [
    "for epoch in range(numEpochs): # кількість епох\n",
    "    lossTot = 0 # втрати в сукупності\n",
    "\n",
    "    for i, (images, labels) in enumerate(trainLoader): # проходимося за всіма даними в batch\n",
    "        images = images.view(-1, 28*28) # наводимо до правильного формату для сітки\n",
    "        optimizer.zero_grad() # обнулюємо градієнт\n",
    "        outputs = model_zm(images) # тут наше передбачення\n",
    "        loss = criterion(outputs.log(), labels.view(-1,1).float()) # рахуємо похибку \n",
    "        loss.backward()  # зворотне поширення. \n",
    "                         # x.grad += dloss/dx для всіх параметрів x\n",
    "\n",
    "        lossTot +=loss.detach().data # інкремент помилки\n",
    "        \n",
    "        optimizer.step() # наступний крок спуску\n",
    "\n",
    "    losses.append(lossTot/len(trainDataset)) # обчислюємо середню помилку та додаємо до списку\n",
    "    print('Епоха: [%d/%d], Похибка: %.4f' \n",
    "           % (epoch+1, numEpochs, loss))\n",
    "plt.figure(figsize=(14,7))\n",
    "plt.plot(losses) # Графік нашого навчання\n",
    "plt.show()"
   ]
  },
  {
   "cell_type": "code",
   "execution_count": 126,
   "metadata": {},
   "outputs": [
    {
     "data": {
      "image/png": "[encoded data removed]",
      "text/plain": [
       "<Figure size 1400x700 with 1 Axes>"
      ]
     },
     "metadata": {},
     "output_type": "display_data"
    },
    {
     "name": "stdout",
     "output_type": "stream",
     "text": [
      "Правильна відповідь tensor(2)\n"
     ]
    }
   ],
   "source": [
    "plt.figure(figsize=(14,7))\n",
    "plt.imshow(trainX[4, 0], cmap='gray')\n",
    "plt.show()\n",
    "print('Правильна відповідь', trainY[8])"
   ]
  },
  {
   "cell_type": "code",
   "execution_count": 127,
   "metadata": {},
   "outputs": [
    {
     "name": "stdout",
     "output_type": "stream",
     "text": [
      "tensor([[0.1000, 0.1000, 0.1000, 0.1000, 0.1000, 0.1000, 0.1000, 0.1000, 0.1000,\n",
      "         0.1000]])\n",
      "torch.return_types.max(\n",
      "values=tensor([0.1000]),\n",
      "indices=tensor([2]))\n"
     ]
    }
   ],
   "source": [
    "x = model_zm(trainX[4].view(-1, 784)).detach()\n",
    "print(x.data)\n",
    "print(torch.max(x.data,dim=1)) # відповідь у вигляді ймовірностей"
   ]
  },
  {
   "cell_type": "markdown",
   "metadata": {
    "id": "dbDg-OmsL-uS"
   },
   "source": [
    "## Перевірка роботи моделі"
   ]
  },
  {
   "cell_type": "code",
   "execution_count": 128,
   "metadata": {},
   "outputs": [
    {
     "name": "stdout",
     "output_type": "stream",
     "text": [
      "Точність для 10000 картинок: 9 %\n"
     ]
    }
   ],
   "source": [
    "correct = 0\n",
    "total = 0\n",
    "\n",
    "model_zm.eval() # режим перевірки\n",
    "\n",
    "for images, labels in testLoader: # ітеруємо по перевірочному датасету\n",
    "    images = images.view(-1, 28*28) # наводимо до потрібного формату\n",
    "    result = labels\n",
    "    outputs = model_zm(images) # робимо прогноз\n",
    "    _, predicted = torch.max(outputs.data, 1) # _ максимальне значення пропускаємо, нас цікавить, що це за цифра\n",
    "    total += labels.size(0) # 0 - перше/єдине значення\n",
    "    correct += (predicted == labels).sum() \n",
    "    \n",
    "print('Точність для 10000 картинок: %d %%' % (100 * correct // total))"
   ]
  },
  {
   "cell_type": "code",
   "execution_count": 129,
   "metadata": {},
   "outputs": [
    {
     "name": "stdout",
     "output_type": "stream",
     "text": [
      "tensor([0.1000, 0.1000, 0.1000, 0.1000, 0.1000, 0.1000, 0.1000, 0.1000, 0.1000,\n",
      "        0.1000], grad_fn=<SelectBackward0>) torch.return_types.max(\n",
      "values=tensor([0.1000, 0.1000, 0.1000, 0.1000, 0.1000, 0.1000, 0.1000, 0.1000, 0.1000,\n",
      "        0.1000, 0.1000, 0.1000, 0.1000, 0.1000, 0.1000, 0.1000, 0.1000, 0.1000,\n",
      "        0.1000, 0.1000, 0.1000, 0.1000, 0.1000, 0.1000, 0.1000, 0.1000, 0.1000,\n",
      "        0.1000, 0.1000, 0.1000, 0.1000, 0.1000, 0.1000, 0.1000, 0.1000, 0.1000,\n",
      "        0.1000, 0.1000, 0.1000, 0.1000, 0.1001, 0.1000, 0.1000, 0.1000, 0.1000,\n",
      "        0.1000, 0.1000, 0.1000, 0.1000, 0.1000, 0.1000, 0.1000, 0.1000, 0.1000,\n",
      "        0.1000, 0.1000, 0.1000, 0.1000, 0.1000, 0.1000, 0.1000, 0.1000, 0.1000,\n",
      "        0.1000, 0.1000, 0.1000, 0.1000, 0.1000, 0.1000, 0.1000, 0.1000, 0.1000,\n",
      "        0.1000, 0.1000, 0.1000, 0.1000, 0.1000, 0.1000, 0.1000, 0.1000, 0.1000,\n",
      "        0.1000, 0.1000, 0.1000, 0.1000, 0.1000, 0.1000, 0.1000, 0.1000, 0.1000,\n",
      "        0.1000, 0.1000, 0.1000, 0.1000, 0.1000, 0.1000, 0.1000, 0.1000, 0.1000,\n",
      "        0.1000]),\n",
      "indices=tensor([2, 2, 2, 2, 2, 2, 2, 2, 2, 2, 2, 2, 2, 2, 2, 2, 2, 2, 1, 2, 2, 2, 2, 2,\n",
      "        2, 4, 2, 2, 2, 2, 2, 4, 2, 9, 2, 4, 2, 2, 2, 2, 6, 2, 2, 2, 2, 4, 4, 2,\n",
      "        4, 2, 2, 2, 2, 2, 2, 2, 2, 2, 2, 4, 2, 2, 2, 2, 2, 2, 2, 2, 4, 2, 2, 2,\n",
      "        2, 2, 2, 2, 2, 2, 2, 2, 2, 2, 2, 2, 2, 2, 2, 2, 2, 2, 2, 2, 2, 2, 2, 2,\n",
      "        2, 2, 2, 2]))\n",
      "tensor([8, 9, 0, 1, 2, 3, 4, 5, 6, 7, 8, 0, 1, 2, 3, 4, 7, 8, 9, 7, 8, 6, 4, 1,\n",
      "        9, 3, 8, 4, 4, 7, 0, 1, 9, 2, 8, 7, 8, 2, 6, 0, 6, 5, 3, 3, 3, 9, 1, 4,\n",
      "        0, 6, 1, 0, 0, 6, 2, 1, 1, 7, 7, 8, 4, 6, 0, 7, 0, 3, 6, 8, 7, 1, 5, 2,\n",
      "        4, 9, 4, 3, 6, 4, 1, 7, 2, 6, 5, 0, 1, 2, 3, 4, 5, 6, 7, 8, 9, 0, 1, 2,\n",
      "        3, 4, 5, 6])\n"
     ]
    }
   ],
   "source": [
    "print(outputs[0], torch.max(outputs.data, 1))\n",
    "print(result)"
   ]
  },
  {
   "cell_type": "code",
   "execution_count": null,
   "metadata": {},
   "outputs": [],
   "source": []
  }
 ],
 "metadata": {
  "accelerator": "GPU",
  "colab": {
   "collapsed_sections": [],
   "name": "Июльский курс (2020) PRO. Занятие 25. Pytorch. Часть#1",
   "provenance": []
  },
  "kernelspec": {
   "display_name": "Python 3 (ipykernel)",
   "language": "python",
   "name": "python3"
  },
  "language_info": {
   "codemirror_mode": {
    "name": "ipython",
    "version": 3
   },
   "file_extension": ".py",
   "mimetype": "text/x-python",
   "name": "python",
   "nbconvert_exporter": "python",
   "pygments_lexer": "ipython3",
   "version": "3.10.11"
  },
  "widgets": {
   "application/vnd.jupyter.widget-state+json": {
    "0057fae63609418eae529c7d3ca0291a": {
     "model_module": "@jupyter-widgets/controls",
     "model_name": "HBoxModel",
     "state": {
      "_dom_classes": [],
      "_model_module": "@jupyter-widgets/controls",
      "_model_module_version": "1.5.0",
      "_model_name": "HBoxModel",
      "_view_count": null,
      "_view_module": "@jupyter-widgets/controls",
      "_view_module_version": "1.5.0",
      "_view_name": "HBoxView",
      "box_style": "",
      "children": [
       "IPY_MODEL_3b1f611b03964cf5a41be6e6cdf3fd09",
       "IPY_MODEL_d50cffdc002a4f03b74039b1c1dffac4"
      ],
      "layout": "IPY_MODEL_b90a529c5cc74a93af1120f43f1aebf2"
     }
    },
    "0064c1f285064fa8be43a93b3c4f270e": {
     "model_module": "@jupyter-widgets/controls",
     "model_name": "ProgressStyleModel",
     "state": {
      "_model_module": "@jupyter-widgets/controls",
      "_model_module_version": "1.5.0",
      "_model_name": "ProgressStyleModel",
      "_view_count": null,
      "_view_module": "@jupyter-widgets/base",
      "_view_module_version": "1.2.0",
      "_view_name": "StyleView",
      "bar_color": null,
      "description_width": "initial"
     }
    },
    "02b49815646b44eda858d693759f97d0": {
     "model_module": "@jupyter-widgets/controls",
     "model_name": "HBoxModel",
     "state": {
      "_dom_classes": [],
      "_model_module": "@jupyter-widgets/controls",
      "_model_module_version": "1.5.0",
      "_model_name": "HBoxModel",
      "_view_count": null,
      "_view_module": "@jupyter-widgets/controls",
      "_view_module_version": "1.5.0",
      "_view_name": "HBoxView",
      "box_style": "",
      "children": [
       "IPY_MODEL_6ecc00efc6744fdaa2c238e83c1e543c",
       "IPY_MODEL_8fd3f0683cc94598a36a8de701bc0f8a"
      ],
      "layout": "IPY_MODEL_e62af250e3ed4175be1d46e467939814"
     }
    },
    "057f2caeeb1b48baa0f496635e1ef1c3": {
     "model_module": "@jupyter-widgets/controls",
     "model_name": "DescriptionStyleModel",
     "state": {
      "_model_module": "@jupyter-widgets/controls",
      "_model_module_version": "1.5.0",
      "_model_name": "DescriptionStyleModel",
      "_view_count": null,
      "_view_module": "@jupyter-widgets/base",
      "_view_module_version": "1.2.0",
      "_view_name": "StyleView",
      "description_width": ""
     }
    },
    "28306b4336da4e189ce97adafa983aa6": {
     "model_module": "@jupyter-widgets/controls",
     "model_name": "HBoxModel",
     "state": {
      "_dom_classes": [],
      "_model_module": "@jupyter-widgets/controls",
      "_model_module_version": "1.5.0",
      "_model_name": "HBoxModel",
      "_view_count": null,
      "_view_module": "@jupyter-widgets/controls",
      "_view_module_version": "1.5.0",
      "_view_name": "HBoxView",
      "box_style": "",
      "children": [
       "IPY_MODEL_a800c15ba62a4ce980f638ca9fc3e60a",
       "IPY_MODEL_6f0c7e0947f541f0a64f1fdc536692ab"
      ],
      "layout": "IPY_MODEL_9082008f0625401aaefd4859dc90a759"
     }
    },
    "35746082ec09422a9664b08685bf0df6": {
     "model_module": "@jupyter-widgets/base",
     "model_name": "LayoutModel",
     "state": {
      "_model_module": "@jupyter-widgets/base",
      "_model_module_version": "1.2.0",
      "_model_name": "LayoutModel",
      "_view_count": null,
      "_view_module": "@jupyter-widgets/base",
      "_view_module_version": "1.2.0",
      "_view_name": "LayoutView",
      "align_content": null,
      "align_items": null,
      "align_self": null,
      "border": null,
      "bottom": null,
      "display": null,
      "flex": null,
      "flex_flow": null,
      "grid_area": null,
      "grid_auto_columns": null,
      "grid_auto_flow": null,
      "grid_auto_rows": null,
      "grid_column": null,
      "grid_gap": null,
      "grid_row": null,
      "grid_template_areas": null,
      "grid_template_columns": null,
      "grid_template_rows": null,
      "height": null,
      "justify_content": null,
      "justify_items": null,
      "left": null,
      "margin": null,
      "max_height": null,
      "max_width": null,
      "min_height": null,
      "min_width": null,
      "object_fit": null,
      "object_position": null,
      "order": null,
      "overflow": null,
      "overflow_x": null,
      "overflow_y": null,
      "padding": null,
      "right": null,
      "top": null,
      "visibility": null,
      "width": null
     }
    },
    "362256d68e3242f2b60cf086f91972ae": {
     "model_module": "@jupyter-widgets/base",
     "model_name": "LayoutModel",
     "state": {
      "_model_module": "@jupyter-widgets/base",
      "_model_module_version": "1.2.0",
      "_model_name": "LayoutModel",
      "_view_count": null,
      "_view_module": "@jupyter-widgets/base",
      "_view_module_version": "1.2.0",
      "_view_name": "LayoutView",
      "align_content": null,
      "align_items": null,
      "align_self": null,
      "border": null,
      "bottom": null,
      "display": null,
      "flex": null,
      "flex_flow": null,
      "grid_area": null,
      "grid_auto_columns": null,
      "grid_auto_flow": null,
      "grid_auto_rows": null,
      "grid_column": null,
      "grid_gap": null,
      "grid_row": null,
      "grid_template_areas": null,
      "grid_template_columns": null,
      "grid_template_rows": null,
      "height": null,
      "justify_content": null,
      "justify_items": null,
      "left": null,
      "margin": null,
      "max_height": null,
      "max_width": null,
      "min_height": null,
      "min_width": null,
      "object_fit": null,
      "object_position": null,
      "order": null,
      "overflow": null,
      "overflow_x": null,
      "overflow_y": null,
      "padding": null,
      "right": null,
      "top": null,
      "visibility": null,
      "width": null
     }
    },
    "3b1f611b03964cf5a41be6e6cdf3fd09": {
     "model_module": "@jupyter-widgets/controls",
     "model_name": "FloatProgressModel",
     "state": {
      "_dom_classes": [],
      "_model_module": "@jupyter-widgets/controls",
      "_model_module_version": "1.5.0",
      "_model_name": "FloatProgressModel",
      "_view_count": null,
      "_view_module": "@jupyter-widgets/controls",
      "_view_module_version": "1.5.0",
      "_view_name": "ProgressView",
      "bar_style": "success",
      "description": "",
      "description_tooltip": null,
      "layout": "IPY_MODEL_c6bc1b28714348079d69d2f09aea6a38",
      "max": 1,
      "min": 0,
      "orientation": "horizontal",
      "style": "IPY_MODEL_eb10b2faf4314d85a4900e8e04ef3e0f",
      "value": 1
     }
    },
    "4895b3f1468b47f68234fd687e1d53a3": {
     "model_module": "@jupyter-widgets/controls",
     "model_name": "ProgressStyleModel",
     "state": {
      "_model_module": "@jupyter-widgets/controls",
      "_model_module_version": "1.5.0",
      "_model_name": "ProgressStyleModel",
      "_view_count": null,
      "_view_module": "@jupyter-widgets/base",
      "_view_module_version": "1.2.0",
      "_view_name": "StyleView",
      "bar_color": null,
      "description_width": "initial"
     }
    },
    "595645adc16c4d2fa5de01e3fe63615f": {
     "model_module": "@jupyter-widgets/controls",
     "model_name": "DescriptionStyleModel",
     "state": {
      "_model_module": "@jupyter-widgets/controls",
      "_model_module_version": "1.5.0",
      "_model_name": "DescriptionStyleModel",
      "_view_count": null,
      "_view_module": "@jupyter-widgets/base",
      "_view_module_version": "1.2.0",
      "_view_name": "StyleView",
      "description_width": ""
     }
    },
    "6093cf67d6f94998b4942760cc181944": {
     "model_module": "@jupyter-widgets/base",
     "model_name": "LayoutModel",
     "state": {
      "_model_module": "@jupyter-widgets/base",
      "_model_module_version": "1.2.0",
      "_model_name": "LayoutModel",
      "_view_count": null,
      "_view_module": "@jupyter-widgets/base",
      "_view_module_version": "1.2.0",
      "_view_name": "LayoutView",
      "align_content": null,
      "align_items": null,
      "align_self": null,
      "border": null,
      "bottom": null,
      "display": null,
      "flex": null,
      "flex_flow": null,
      "grid_area": null,
      "grid_auto_columns": null,
      "grid_auto_flow": null,
      "grid_auto_rows": null,
      "grid_column": null,
      "grid_gap": null,
      "grid_row": null,
      "grid_template_areas": null,
      "grid_template_columns": null,
      "grid_template_rows": null,
      "height": null,
      "justify_content": null,
      "justify_items": null,
      "left": null,
      "margin": null,
      "max_height": null,
      "max_width": null,
      "min_height": null,
      "min_width": null,
      "object_fit": null,
      "object_position": null,
      "order": null,
      "overflow": null,
      "overflow_x": null,
      "overflow_y": null,
      "padding": null,
      "right": null,
      "top": null,
      "visibility": null,
      "width": null
     }
    },
    "60943ff3fc1c4060bf174e24ed57bbd2": {
     "model_module": "@jupyter-widgets/base",
     "model_name": "LayoutModel",
     "state": {
      "_model_module": "@jupyter-widgets/base",
      "_model_module_version": "1.2.0",
      "_model_name": "LayoutModel",
      "_view_count": null,
      "_view_module": "@jupyter-widgets/base",
      "_view_module_version": "1.2.0",
      "_view_name": "LayoutView",
      "align_content": null,
      "align_items": null,
      "align_self": null,
      "border": null,
      "bottom": null,
      "display": null,
      "flex": null,
      "flex_flow": null,
      "grid_area": null,
      "grid_auto_columns": null,
      "grid_auto_flow": null,
      "grid_auto_rows": null,
      "grid_column": null,
      "grid_gap": null,
      "grid_row": null,
      "grid_template_areas": null,
      "grid_template_columns": null,
      "grid_template_rows": null,
      "height": null,
      "justify_content": null,
      "justify_items": null,
      "left": null,
      "margin": null,
      "max_height": null,
      "max_width": null,
      "min_height": null,
      "min_width": null,
      "object_fit": null,
      "object_position": null,
      "order": null,
      "overflow": null,
      "overflow_x": null,
      "overflow_y": null,
      "padding": null,
      "right": null,
      "top": null,
      "visibility": null,
      "width": null
     }
    },
    "65a4c857ba9f44638b51d34fe5a4da10": {
     "model_module": "@jupyter-widgets/controls",
     "model_name": "HTMLModel",
     "state": {
      "_dom_classes": [],
      "_model_module": "@jupyter-widgets/controls",
      "_model_module_version": "1.5.0",
      "_model_name": "HTMLModel",
      "_view_count": null,
      "_view_module": "@jupyter-widgets/controls",
      "_view_module_version": "1.5.0",
      "_view_name": "HTMLView",
      "description": "",
      "description_tooltip": null,
      "layout": "IPY_MODEL_362256d68e3242f2b60cf086f91972ae",
      "placeholder": "​",
      "style": "IPY_MODEL_853a85d43c574d858d7d54a07d65c1a2",
      "value": " 170500096/? [00:30&lt;00:00, 17302934.24it/s]"
     }
    },
    "683b9fcc9f124c4a83976114a29a394b": {
     "model_module": "@jupyter-widgets/controls",
     "model_name": "FloatProgressModel",
     "state": {
      "_dom_classes": [],
      "_model_module": "@jupyter-widgets/controls",
      "_model_module_version": "1.5.0",
      "_model_name": "FloatProgressModel",
      "_view_count": null,
      "_view_module": "@jupyter-widgets/controls",
      "_view_module_version": "1.5.0",
      "_view_name": "ProgressView",
      "bar_style": "success",
      "description": "",
      "description_tooltip": null,
      "layout": "IPY_MODEL_a74f2482e8c14080b89314dbfa04e5c2",
      "max": 1,
      "min": 0,
      "orientation": "horizontal",
      "style": "IPY_MODEL_0064c1f285064fa8be43a93b3c4f270e",
      "value": 1
     }
    },
    "6ecc00efc6744fdaa2c238e83c1e543c": {
     "model_module": "@jupyter-widgets/controls",
     "model_name": "FloatProgressModel",
     "state": {
      "_dom_classes": [],
      "_model_module": "@jupyter-widgets/controls",
      "_model_module_version": "1.5.0",
      "_model_name": "FloatProgressModel",
      "_view_count": null,
      "_view_module": "@jupyter-widgets/controls",
      "_view_module_version": "1.5.0",
      "_view_name": "ProgressView",
      "bar_style": "success",
      "description": "",
      "description_tooltip": null,
      "layout": "IPY_MODEL_af5b709a90b04d85ad9b3e2274be755f",
      "max": 1,
      "min": 0,
      "orientation": "horizontal",
      "style": "IPY_MODEL_f1407b1456184e44a570c6d9072b9a9b",
      "value": 1
     }
    },
    "6f0c7e0947f541f0a64f1fdc536692ab": {
     "model_module": "@jupyter-widgets/controls",
     "model_name": "HTMLModel",
     "state": {
      "_dom_classes": [],
      "_model_module": "@jupyter-widgets/controls",
      "_model_module_version": "1.5.0",
      "_model_name": "HTMLModel",
      "_view_count": null,
      "_view_module": "@jupyter-widgets/controls",
      "_view_module_version": "1.5.0",
      "_view_name": "HTMLView",
      "description": "",
      "description_tooltip": null,
      "layout": "IPY_MODEL_d56b21bd4bb240c99dc24e45a5751302",
      "placeholder": "​",
      "style": "IPY_MODEL_057f2caeeb1b48baa0f496635e1ef1c3",
      "value": " 1654784/? [00:02&lt;00:00, 619382.56it/s]"
     }
    },
    "6f2e97d5598d413aae8d1168d9ace0e0": {
     "model_module": "@jupyter-widgets/controls",
     "model_name": "HBoxModel",
     "state": {
      "_dom_classes": [],
      "_model_module": "@jupyter-widgets/controls",
      "_model_module_version": "1.5.0",
      "_model_name": "HBoxModel",
      "_view_count": null,
      "_view_module": "@jupyter-widgets/controls",
      "_view_module_version": "1.5.0",
      "_view_name": "HBoxView",
      "box_style": "",
      "children": [
       "IPY_MODEL_c3c72eb2b92b435bb06808a2944be843",
       "IPY_MODEL_65a4c857ba9f44638b51d34fe5a4da10"
      ],
      "layout": "IPY_MODEL_a592e54180bc4d03ab2441f59ea7804f"
     }
    },
    "853a85d43c574d858d7d54a07d65c1a2": {
     "model_module": "@jupyter-widgets/controls",
     "model_name": "DescriptionStyleModel",
     "state": {
      "_model_module": "@jupyter-widgets/controls",
      "_model_module_version": "1.5.0",
      "_model_name": "DescriptionStyleModel",
      "_view_count": null,
      "_view_module": "@jupyter-widgets/base",
      "_view_module_version": "1.2.0",
      "_view_name": "StyleView",
      "description_width": ""
     }
    },
    "879f76a6a72149c69d35a5e28dde2f9a": {
     "model_module": "@jupyter-widgets/base",
     "model_name": "LayoutModel",
     "state": {
      "_model_module": "@jupyter-widgets/base",
      "_model_module_version": "1.2.0",
      "_model_name": "LayoutModel",
      "_view_count": null,
      "_view_module": "@jupyter-widgets/base",
      "_view_module_version": "1.2.0",
      "_view_name": "LayoutView",
      "align_content": null,
      "align_items": null,
      "align_self": null,
      "border": null,
      "bottom": null,
      "display": null,
      "flex": null,
      "flex_flow": null,
      "grid_area": null,
      "grid_auto_columns": null,
      "grid_auto_flow": null,
      "grid_auto_rows": null,
      "grid_column": null,
      "grid_gap": null,
      "grid_row": null,
      "grid_template_areas": null,
      "grid_template_columns": null,
      "grid_template_rows": null,
      "height": null,
      "justify_content": null,
      "justify_items": null,
      "left": null,
      "margin": null,
      "max_height": null,
      "max_width": null,
      "min_height": null,
      "min_width": null,
      "object_fit": null,
      "object_position": null,
      "order": null,
      "overflow": null,
      "overflow_x": null,
      "overflow_y": null,
      "padding": null,
      "right": null,
      "top": null,
      "visibility": null,
      "width": null
     }
    },
    "8fd3f0683cc94598a36a8de701bc0f8a": {
     "model_module": "@jupyter-widgets/controls",
     "model_name": "HTMLModel",
     "state": {
      "_dom_classes": [],
      "_model_module": "@jupyter-widgets/controls",
      "_model_module_version": "1.5.0",
      "_model_name": "HTMLModel",
      "_view_count": null,
      "_view_module": "@jupyter-widgets/controls",
      "_view_module_version": "1.5.0",
      "_view_name": "HTMLView",
      "description": "",
      "description_tooltip": null,
      "layout": "IPY_MODEL_fa892a74a9b64757a8dc2b1d0e6739f2",
      "placeholder": "​",
      "style": "IPY_MODEL_d463f3e794794d7e9e33f205b1a4d697",
      "value": " 9920512/? [00:06&lt;00:00, 1466469.43it/s]"
     }
    },
    "9082008f0625401aaefd4859dc90a759": {
     "model_module": "@jupyter-widgets/base",
     "model_name": "LayoutModel",
     "state": {
      "_model_module": "@jupyter-widgets/base",
      "_model_module_version": "1.2.0",
      "_model_name": "LayoutModel",
      "_view_count": null,
      "_view_module": "@jupyter-widgets/base",
      "_view_module_version": "1.2.0",
      "_view_name": "LayoutView",
      "align_content": null,
      "align_items": null,
      "align_self": null,
      "border": null,
      "bottom": null,
      "display": null,
      "flex": null,
      "flex_flow": null,
      "grid_area": null,
      "grid_auto_columns": null,
      "grid_auto_flow": null,
      "grid_auto_rows": null,
      "grid_column": null,
      "grid_gap": null,
      "grid_row": null,
      "grid_template_areas": null,
      "grid_template_columns": null,
      "grid_template_rows": null,
      "height": null,
      "justify_content": null,
      "justify_items": null,
      "left": null,
      "margin": null,
      "max_height": null,
      "max_width": null,
      "min_height": null,
      "min_width": null,
      "object_fit": null,
      "object_position": null,
      "order": null,
      "overflow": null,
      "overflow_x": null,
      "overflow_y": null,
      "padding": null,
      "right": null,
      "top": null,
      "visibility": null,
      "width": null
     }
    },
    "9d040351b8f24fd582cd44760187298e": {
     "model_module": "@jupyter-widgets/controls",
     "model_name": "DescriptionStyleModel",
     "state": {
      "_model_module": "@jupyter-widgets/controls",
      "_model_module_version": "1.5.0",
      "_model_name": "DescriptionStyleModel",
      "_view_count": null,
      "_view_module": "@jupyter-widgets/base",
      "_view_module_version": "1.2.0",
      "_view_name": "StyleView",
      "description_width": ""
     }
    },
    "a592e54180bc4d03ab2441f59ea7804f": {
     "model_module": "@jupyter-widgets/base",
     "model_name": "LayoutModel",
     "state": {
      "_model_module": "@jupyter-widgets/base",
      "_model_module_version": "1.2.0",
      "_model_name": "LayoutModel",
      "_view_count": null,
      "_view_module": "@jupyter-widgets/base",
      "_view_module_version": "1.2.0",
      "_view_name": "LayoutView",
      "align_content": null,
      "align_items": null,
      "align_self": null,
      "border": null,
      "bottom": null,
      "display": null,
      "flex": null,
      "flex_flow": null,
      "grid_area": null,
      "grid_auto_columns": null,
      "grid_auto_flow": null,
      "grid_auto_rows": null,
      "grid_column": null,
      "grid_gap": null,
      "grid_row": null,
      "grid_template_areas": null,
      "grid_template_columns": null,
      "grid_template_rows": null,
      "height": null,
      "justify_content": null,
      "justify_items": null,
      "left": null,
      "margin": null,
      "max_height": null,
      "max_width": null,
      "min_height": null,
      "min_width": null,
      "object_fit": null,
      "object_position": null,
      "order": null,
      "overflow": null,
      "overflow_x": null,
      "overflow_y": null,
      "padding": null,
      "right": null,
      "top": null,
      "visibility": null,
      "width": null
     }
    },
    "a74f2482e8c14080b89314dbfa04e5c2": {
     "model_module": "@jupyter-widgets/base",
     "model_name": "LayoutModel",
     "state": {
      "_model_module": "@jupyter-widgets/base",
      "_model_module_version": "1.2.0",
      "_model_name": "LayoutModel",
      "_view_count": null,
      "_view_module": "@jupyter-widgets/base",
      "_view_module_version": "1.2.0",
      "_view_name": "LayoutView",
      "align_content": null,
      "align_items": null,
      "align_self": null,
      "border": null,
      "bottom": null,
      "display": null,
      "flex": null,
      "flex_flow": null,
      "grid_area": null,
      "grid_auto_columns": null,
      "grid_auto_flow": null,
      "grid_auto_rows": null,
      "grid_column": null,
      "grid_gap": null,
      "grid_row": null,
      "grid_template_areas": null,
      "grid_template_columns": null,
      "grid_template_rows": null,
      "height": null,
      "justify_content": null,
      "justify_items": null,
      "left": null,
      "margin": null,
      "max_height": null,
      "max_width": null,
      "min_height": null,
      "min_width": null,
      "object_fit": null,
      "object_position": null,
      "order": null,
      "overflow": null,
      "overflow_x": null,
      "overflow_y": null,
      "padding": null,
      "right": null,
      "top": null,
      "visibility": null,
      "width": null
     }
    },
    "a75bf3949a7343ecb9d89a3a389db435": {
     "model_module": "@jupyter-widgets/base",
     "model_name": "LayoutModel",
     "state": {
      "_model_module": "@jupyter-widgets/base",
      "_model_module_version": "1.2.0",
      "_model_name": "LayoutModel",
      "_view_count": null,
      "_view_module": "@jupyter-widgets/base",
      "_view_module_version": "1.2.0",
      "_view_name": "LayoutView",
      "align_content": null,
      "align_items": null,
      "align_self": null,
      "border": null,
      "bottom": null,
      "display": null,
      "flex": null,
      "flex_flow": null,
      "grid_area": null,
      "grid_auto_columns": null,
      "grid_auto_flow": null,
      "grid_auto_rows": null,
      "grid_column": null,
      "grid_gap": null,
      "grid_row": null,
      "grid_template_areas": null,
      "grid_template_columns": null,
      "grid_template_rows": null,
      "height": null,
      "justify_content": null,
      "justify_items": null,
      "left": null,
      "margin": null,
      "max_height": null,
      "max_width": null,
      "min_height": null,
      "min_width": null,
      "object_fit": null,
      "object_position": null,
      "order": null,
      "overflow": null,
      "overflow_x": null,
      "overflow_y": null,
      "padding": null,
      "right": null,
      "top": null,
      "visibility": null,
      "width": null
     }
    },
    "a800c15ba62a4ce980f638ca9fc3e60a": {
     "model_module": "@jupyter-widgets/controls",
     "model_name": "FloatProgressModel",
     "state": {
      "_dom_classes": [],
      "_model_module": "@jupyter-widgets/controls",
      "_model_module_version": "1.5.0",
      "_model_name": "FloatProgressModel",
      "_view_count": null,
      "_view_module": "@jupyter-widgets/controls",
      "_view_module_version": "1.5.0",
      "_view_name": "ProgressView",
      "bar_style": "success",
      "description": "",
      "description_tooltip": null,
      "layout": "IPY_MODEL_879f76a6a72149c69d35a5e28dde2f9a",
      "max": 1,
      "min": 0,
      "orientation": "horizontal",
      "style": "IPY_MODEL_4895b3f1468b47f68234fd687e1d53a3",
      "value": 1
     }
    },
    "af5b709a90b04d85ad9b3e2274be755f": {
     "model_module": "@jupyter-widgets/base",
     "model_name": "LayoutModel",
     "state": {
      "_model_module": "@jupyter-widgets/base",
      "_model_module_version": "1.2.0",
      "_model_name": "LayoutModel",
      "_view_count": null,
      "_view_module": "@jupyter-widgets/base",
      "_view_module_version": "1.2.0",
      "_view_name": "LayoutView",
      "align_content": null,
      "align_items": null,
      "align_self": null,
      "border": null,
      "bottom": null,
      "display": null,
      "flex": null,
      "flex_flow": null,
      "grid_area": null,
      "grid_auto_columns": null,
      "grid_auto_flow": null,
      "grid_auto_rows": null,
      "grid_column": null,
      "grid_gap": null,
      "grid_row": null,
      "grid_template_areas": null,
      "grid_template_columns": null,
      "grid_template_rows": null,
      "height": null,
      "justify_content": null,
      "justify_items": null,
      "left": null,
      "margin": null,
      "max_height": null,
      "max_width": null,
      "min_height": null,
      "min_width": null,
      "object_fit": null,
      "object_position": null,
      "order": null,
      "overflow": null,
      "overflow_x": null,
      "overflow_y": null,
      "padding": null,
      "right": null,
      "top": null,
      "visibility": null,
      "width": null
     }
    },
    "b90a529c5cc74a93af1120f43f1aebf2": {
     "model_module": "@jupyter-widgets/base",
     "model_name": "LayoutModel",
     "state": {
      "_model_module": "@jupyter-widgets/base",
      "_model_module_version": "1.2.0",
      "_model_name": "LayoutModel",
      "_view_count": null,
      "_view_module": "@jupyter-widgets/base",
      "_view_module_version": "1.2.0",
      "_view_name": "LayoutView",
      "align_content": null,
      "align_items": null,
      "align_self": null,
      "border": null,
      "bottom": null,
      "display": null,
      "flex": null,
      "flex_flow": null,
      "grid_area": null,
      "grid_auto_columns": null,
      "grid_auto_flow": null,
      "grid_auto_rows": null,
      "grid_column": null,
      "grid_gap": null,
      "grid_row": null,
      "grid_template_areas": null,
      "grid_template_columns": null,
      "grid_template_rows": null,
      "height": null,
      "justify_content": null,
      "justify_items": null,
      "left": null,
      "margin": null,
      "max_height": null,
      "max_width": null,
      "min_height": null,
      "min_width": null,
      "object_fit": null,
      "object_position": null,
      "order": null,
      "overflow": null,
      "overflow_x": null,
      "overflow_y": null,
      "padding": null,
      "right": null,
      "top": null,
      "visibility": null,
      "width": null
     }
    },
    "c3c72eb2b92b435bb06808a2944be843": {
     "model_module": "@jupyter-widgets/controls",
     "model_name": "FloatProgressModel",
     "state": {
      "_dom_classes": [],
      "_model_module": "@jupyter-widgets/controls",
      "_model_module_version": "1.5.0",
      "_model_name": "FloatProgressModel",
      "_view_count": null,
      "_view_module": "@jupyter-widgets/controls",
      "_view_module_version": "1.5.0",
      "_view_name": "ProgressView",
      "bar_style": "info",
      "description": "",
      "description_tooltip": null,
      "layout": "IPY_MODEL_6093cf67d6f94998b4942760cc181944",
      "max": 1,
      "min": 0,
      "orientation": "horizontal",
      "style": "IPY_MODEL_c65c286f9edf4cdaaa9a2a372dc91557",
      "value": 1
     }
    },
    "c65c286f9edf4cdaaa9a2a372dc91557": {
     "model_module": "@jupyter-widgets/controls",
     "model_name": "ProgressStyleModel",
     "state": {
      "_model_module": "@jupyter-widgets/controls",
      "_model_module_version": "1.5.0",
      "_model_name": "ProgressStyleModel",
      "_view_count": null,
      "_view_module": "@jupyter-widgets/base",
      "_view_module_version": "1.2.0",
      "_view_name": "StyleView",
      "bar_color": null,
      "description_width": "initial"
     }
    },
    "c6bc1b28714348079d69d2f09aea6a38": {
     "model_module": "@jupyter-widgets/base",
     "model_name": "LayoutModel",
     "state": {
      "_model_module": "@jupyter-widgets/base",
      "_model_module_version": "1.2.0",
      "_model_name": "LayoutModel",
      "_view_count": null,
      "_view_module": "@jupyter-widgets/base",
      "_view_module_version": "1.2.0",
      "_view_name": "LayoutView",
      "align_content": null,
      "align_items": null,
      "align_self": null,
      "border": null,
      "bottom": null,
      "display": null,
      "flex": null,
      "flex_flow": null,
      "grid_area": null,
      "grid_auto_columns": null,
      "grid_auto_flow": null,
      "grid_auto_rows": null,
      "grid_column": null,
      "grid_gap": null,
      "grid_row": null,
      "grid_template_areas": null,
      "grid_template_columns": null,
      "grid_template_rows": null,
      "height": null,
      "justify_content": null,
      "justify_items": null,
      "left": null,
      "margin": null,
      "max_height": null,
      "max_width": null,
      "min_height": null,
      "min_width": null,
      "object_fit": null,
      "object_position": null,
      "order": null,
      "overflow": null,
      "overflow_x": null,
      "overflow_y": null,
      "padding": null,
      "right": null,
      "top": null,
      "visibility": null,
      "width": null
     }
    },
    "d463f3e794794d7e9e33f205b1a4d697": {
     "model_module": "@jupyter-widgets/controls",
     "model_name": "DescriptionStyleModel",
     "state": {
      "_model_module": "@jupyter-widgets/controls",
      "_model_module_version": "1.5.0",
      "_model_name": "DescriptionStyleModel",
      "_view_count": null,
      "_view_module": "@jupyter-widgets/base",
      "_view_module_version": "1.2.0",
      "_view_name": "StyleView",
      "description_width": ""
     }
    },
    "d50cffdc002a4f03b74039b1c1dffac4": {
     "model_module": "@jupyter-widgets/controls",
     "model_name": "HTMLModel",
     "state": {
      "_dom_classes": [],
      "_model_module": "@jupyter-widgets/controls",
      "_model_module_version": "1.5.0",
      "_model_name": "HTMLModel",
      "_view_count": null,
      "_view_module": "@jupyter-widgets/controls",
      "_view_module_version": "1.5.0",
      "_view_name": "HTMLView",
      "description": "",
      "description_tooltip": null,
      "layout": "IPY_MODEL_a75bf3949a7343ecb9d89a3a389db435",
      "placeholder": "​",
      "style": "IPY_MODEL_9d040351b8f24fd582cd44760187298e",
      "value": " 8192/? [00:00&lt;00:00, 11682.92it/s]"
     }
    },
    "d56b21bd4bb240c99dc24e45a5751302": {
     "model_module": "@jupyter-widgets/base",
     "model_name": "LayoutModel",
     "state": {
      "_model_module": "@jupyter-widgets/base",
      "_model_module_version": "1.2.0",
      "_model_name": "LayoutModel",
      "_view_count": null,
      "_view_module": "@jupyter-widgets/base",
      "_view_module_version": "1.2.0",
      "_view_name": "LayoutView",
      "align_content": null,
      "align_items": null,
      "align_self": null,
      "border": null,
      "bottom": null,
      "display": null,
      "flex": null,
      "flex_flow": null,
      "grid_area": null,
      "grid_auto_columns": null,
      "grid_auto_flow": null,
      "grid_auto_rows": null,
      "grid_column": null,
      "grid_gap": null,
      "grid_row": null,
      "grid_template_areas": null,
      "grid_template_columns": null,
      "grid_template_rows": null,
      "height": null,
      "justify_content": null,
      "justify_items": null,
      "left": null,
      "margin": null,
      "max_height": null,
      "max_width": null,
      "min_height": null,
      "min_width": null,
      "object_fit": null,
      "object_position": null,
      "order": null,
      "overflow": null,
      "overflow_x": null,
      "overflow_y": null,
      "padding": null,
      "right": null,
      "top": null,
      "visibility": null,
      "width": null
     }
    },
    "e2715624dd774daa968700e078de9878": {
     "model_module": "@jupyter-widgets/controls",
     "model_name": "HBoxModel",
     "state": {
      "_dom_classes": [],
      "_model_module": "@jupyter-widgets/controls",
      "_model_module_version": "1.5.0",
      "_model_name": "HBoxModel",
      "_view_count": null,
      "_view_module": "@jupyter-widgets/controls",
      "_view_module_version": "1.5.0",
      "_view_name": "HBoxView",
      "box_style": "",
      "children": [
       "IPY_MODEL_683b9fcc9f124c4a83976114a29a394b",
       "IPY_MODEL_f9612b6d2fda44adb4071a82c619884d"
      ],
      "layout": "IPY_MODEL_35746082ec09422a9664b08685bf0df6"
     }
    },
    "e62af250e3ed4175be1d46e467939814": {
     "model_module": "@jupyter-widgets/base",
     "model_name": "LayoutModel",
     "state": {
      "_model_module": "@jupyter-widgets/base",
      "_model_module_version": "1.2.0",
      "_model_name": "LayoutModel",
      "_view_count": null,
      "_view_module": "@jupyter-widgets/base",
      "_view_module_version": "1.2.0",
      "_view_name": "LayoutView",
      "align_content": null,
      "align_items": null,
      "align_self": null,
      "border": null,
      "bottom": null,
      "display": null,
      "flex": null,
      "flex_flow": null,
      "grid_area": null,
      "grid_auto_columns": null,
      "grid_auto_flow": null,
      "grid_auto_rows": null,
      "grid_column": null,
      "grid_gap": null,
      "grid_row": null,
      "grid_template_areas": null,
      "grid_template_columns": null,
      "grid_template_rows": null,
      "height": null,
      "justify_content": null,
      "justify_items": null,
      "left": null,
      "margin": null,
      "max_height": null,
      "max_width": null,
      "min_height": null,
      "min_width": null,
      "object_fit": null,
      "object_position": null,
      "order": null,
      "overflow": null,
      "overflow_x": null,
      "overflow_y": null,
      "padding": null,
      "right": null,
      "top": null,
      "visibility": null,
      "width": null
     }
    },
    "eb10b2faf4314d85a4900e8e04ef3e0f": {
     "model_module": "@jupyter-widgets/controls",
     "model_name": "ProgressStyleModel",
     "state": {
      "_model_module": "@jupyter-widgets/controls",
      "_model_module_version": "1.5.0",
      "_model_name": "ProgressStyleModel",
      "_view_count": null,
      "_view_module": "@jupyter-widgets/base",
      "_view_module_version": "1.2.0",
      "_view_name": "StyleView",
      "bar_color": null,
      "description_width": "initial"
     }
    },
    "f1407b1456184e44a570c6d9072b9a9b": {
     "model_module": "@jupyter-widgets/controls",
     "model_name": "ProgressStyleModel",
     "state": {
      "_model_module": "@jupyter-widgets/controls",
      "_model_module_version": "1.5.0",
      "_model_name": "ProgressStyleModel",
      "_view_count": null,
      "_view_module": "@jupyter-widgets/base",
      "_view_module_version": "1.2.0",
      "_view_name": "StyleView",
      "bar_color": null,
      "description_width": "initial"
     }
    },
    "f9612b6d2fda44adb4071a82c619884d": {
     "model_module": "@jupyter-widgets/controls",
     "model_name": "HTMLModel",
     "state": {
      "_dom_classes": [],
      "_model_module": "@jupyter-widgets/controls",
      "_model_module_version": "1.5.0",
      "_model_name": "HTMLModel",
      "_view_count": null,
      "_view_module": "@jupyter-widgets/controls",
      "_view_module_version": "1.5.0",
      "_view_name": "HTMLView",
      "description": "",
      "description_tooltip": null,
      "layout": "IPY_MODEL_60943ff3fc1c4060bf174e24ed57bbd2",
      "placeholder": "​",
      "style": "IPY_MODEL_595645adc16c4d2fa5de01e3fe63615f",
      "value": " 32768/? [00:03&lt;00:00, 9888.24it/s]"
     }
    },
    "fa892a74a9b64757a8dc2b1d0e6739f2": {
     "model_module": "@jupyter-widgets/base",
     "model_name": "LayoutModel",
     "state": {
      "_model_module": "@jupyter-widgets/base",
      "_model_module_version": "1.2.0",
      "_model_name": "LayoutModel",
      "_view_count": null,
      "_view_module": "@jupyter-widgets/base",
      "_view_module_version": "1.2.0",
      "_view_name": "LayoutView",
      "align_content": null,
      "align_items": null,
      "align_self": null,
      "border": null,
      "bottom": null,
      "display": null,
      "flex": null,
      "flex_flow": null,
      "grid_area": null,
      "grid_auto_columns": null,
      "grid_auto_flow": null,
      "grid_auto_rows": null,
      "grid_column": null,
      "grid_gap": null,
      "grid_row": null,
      "grid_template_areas": null,
      "grid_template_columns": null,
      "grid_template_rows": null,
      "height": null,
      "justify_content": null,
      "justify_items": null,
      "left": null,
      "margin": null,
      "max_height": null,
      "max_width": null,
      "min_height": null,
      "min_width": null,
      "object_fit": null,
      "object_position": null,
      "order": null,
      "overflow": null,
      "overflow_x": null,
      "overflow_y": null,
      "padding": null,
      "right": null,
      "top": null,
      "visibility": null,
      "width": null
     }
    }
   }
  }
 },
 "nbformat": 4,
 "nbformat_minor": 1
}
