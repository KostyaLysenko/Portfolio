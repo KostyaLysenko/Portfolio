{
 "cells": [
  {
   "cell_type": "code",
   "execution_count": 1,
   "id": "85aef029",
   "metadata": {},
   "outputs": [],
   "source": [
    "import numpy as np\n",
    "import pandas as pd \n",
    "from sklearn.datasets import load_iris\n",
    "from scipy.stats import norm\n",
    "import warnings\n",
    "warnings.simplefilter(\"ignore\")"
   ]
  },
  {
   "cell_type": "code",
   "execution_count": 2,
   "id": "fd25cee3",
   "metadata": {},
   "outputs": [],
   "source": [
    "data = load_iris()\n",
    "X,y, column_names = data['data'], data['target'], data['feature_names']\n",
    "X = pd.DataFrame(X,columns= column_names)"
   ]
  },
  {
   "cell_type": "code",
   "execution_count": 4,
   "id": "ce0d2aa1",
   "metadata": {},
   "outputs": [],
   "source": [
    "from sklearn.model_selection import train_test_split\n",
    "X_train, X_val, y_train, y_val = train_test_split(X, y, random_state = 44)\n",
    "\n",
    "means = X_train.groupby(y_train).apply(np.mean)\n",
    "stds = X_train.groupby(y_train).apply(np.std)"
   ]
  },
  {
   "cell_type": "code",
   "execution_count": 5,
   "id": "73bf2e6c",
   "metadata": {},
   "outputs": [],
   "source": [
    "probs = X_train.groupby(y_train).apply(lambda x: len(x)) / X_train.shape[0]"
   ]
  },
  {
   "cell_type": "code",
   "execution_count": 6,
   "id": "08d39049",
   "metadata": {},
   "outputs": [],
   "source": [
    "y_pred = []\n",
    "\n",
    "for elem in range(X_val.shape[0]):\n",
    "    p = {}\n",
    "    \n",
    "    for cl in np.unique(y_train):\n",
    "        p[cl]=probs.iloc[cl]\n",
    "        for index, param in enumerate(X_val.iloc[elem]):\n",
    "            p[cl] *= norm.pdf(param, means.iloc[cl, index], stds.iloc[cl,index])\n",
    "            \n",
    "    y_pred.append(pd.Series(p).values.argmax())"
   ]
  },
  {
   "cell_type": "code",
   "execution_count": 7,
   "id": "c8563235",
   "metadata": {},
   "outputs": [],
   "source": [
    "from sklearn.metrics import accuracy_score\n",
    "accuracy1 = accuracy_score(y_val, y_pred)"
   ]
  },
  {
   "cell_type": "code",
   "execution_count": 8,
   "id": "cb6dfa9a",
   "metadata": {},
   "outputs": [],
   "source": [
    "from sklearn.naive_bayes import GaussianNB\n",
    "model = GaussianNB()\n",
    "model.fit(X_train, y_train)\n",
    "accuracy2 = accuracy_score(y_val, model.predict(X_val))"
   ]
  },
  {
   "cell_type": "code",
   "execution_count": 9,
   "id": "fd56d28d",
   "metadata": {},
   "outputs": [
    {
     "name": "stdout",
     "output_type": "stream",
     "text": [
      "0.9210526315789473\n",
      "0.9210526315789473\n"
     ]
    }
   ],
   "source": [
    "print(accuracy1)\n",
    "print(accuracy2)"
   ]
  },
  {
   "cell_type": "code",
   "execution_count": 10,
   "id": "c2462cbc",
   "metadata": {},
   "outputs": [],
   "source": [
    "import ml_metrics as metrix"
   ]
  },
  {
   "cell_type": "code",
   "execution_count": 17,
   "id": "0e9c17f8",
   "metadata": {},
   "outputs": [
    {
     "name": "stdout",
     "output_type": "stream",
     "text": [
      "0.07894736842105263\n",
      "0.28097574347450816\n"
     ]
    }
   ],
   "source": [
    "print(metrix.mae(y_val, y_pred))\n",
    "print(metrix.rmse(y_val, y_pred))\n",
    "\n"
   ]
  },
  {
   "cell_type": "code",
   "execution_count": null,
   "id": "98bc8af9",
   "metadata": {},
   "outputs": [],
   "source": []
  }
 ],
 "metadata": {
  "kernelspec": {
   "display_name": "Python 3 (ipykernel)",
   "language": "python",
   "name": "python3"
  },
  "language_info": {
   "codemirror_mode": {
    "name": "ipython",
    "version": 3
   },
   "file_extension": ".py",
   "mimetype": "text/x-python",
   "name": "python",
   "nbconvert_exporter": "python",
   "pygments_lexer": "ipython3",
   "version": "3.10.11"
  }
 },
 "nbformat": 4,
 "nbformat_minor": 5
}
