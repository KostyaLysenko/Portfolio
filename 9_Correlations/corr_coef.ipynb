{
 "cells": [
  {
   "cell_type": "markdown",
   "id": "db7f0bc2",
   "metadata": {},
   "source": [
    "# Задача 1"
   ]
  },
  {
   "cell_type": "markdown",
   "id": "e800e87d",
   "metadata": {},
   "source": [
    "**коефіцієнт кореляції буде -1 через те, що ми порівнюємо протилежні величини(стандартні та браковані деталі)**"
   ]
  },
  {
   "cell_type": "code",
   "execution_count": 71,
   "id": "569f57d8",
   "metadata": {},
   "outputs": [],
   "source": [
    "P= 0.6\n",
    "n=3\n",
    "\n",
    "\n",
    "Y=[3,2,1,0]\n",
    "X=[3,2,1,0]\n",
    "\n"
   ]
  },
  {
   "cell_type": "markdown",
   "id": "b87bb8b1",
   "metadata": {},
   "source": [
    "розрахуємо вірогідності для усіх ситуацій"
   ]
  },
  {
   "cell_type": "code",
   "execution_count": 72,
   "id": "b10fe8ef",
   "metadata": {},
   "outputs": [
    {
     "name": "stdout",
     "output_type": "stream",
     "text": [
      "0.21599999999999997\n",
      "0.43199999999999994\n",
      "0.28800000000000003\n",
      "0.06400000000000002\n"
     ]
    },
    {
     "data": {
      "text/plain": [
       "1.0"
      ]
     },
     "execution_count": 72,
     "metadata": {},
     "output_type": "execute_result"
    }
   ],
   "source": [
    "A=P**3  #вероятность того что все три будут стандартными\n",
    "B=(P*P*(1-P))+(P*P*(1-P))+(P*P*(1-P))   #вероятность того что  2 из трех будут стандартными\n",
    "C=(P*(1-P)*(1-P))+((1-P)*P*(1-P))+((1-P)*(1-P)*P)  #вероятность того что одна будет стандартной\n",
    "D=(1-P)**3   #вероятность того что все будут бракованными\n",
    "print(A)\n",
    "print(B)\n",
    "print(C)\n",
    "print(D)\n",
    "Py=[A,B,C,D]\n",
    "Px=[D,C,B,A]\n",
    "\n",
    "A+B+C+D\n",
    "\n"
   ]
  },
  {
   "cell_type": "markdown",
   "id": "ef1082be",
   "metadata": {},
   "source": [
    "Розрахуємо усі необхідні дані для розрахунку коефіцієнту кореляції"
   ]
  },
  {
   "cell_type": "code",
   "execution_count": 75,
   "id": "e0ce8583",
   "metadata": {},
   "outputs": [
    {
     "name": "stdout",
     "output_type": "stream",
     "text": [
      "My=1.7999999999999998\n",
      "Mx=1.2000000000000002\n",
      "Dy=0.7200000000000006\n",
      "Dx=0.7199999999999998\n",
      "Gy=0.8485281374238574\n",
      "Gx=0.8485281374238569\n",
      "Mxy=1.44\n",
      "covXY=-0.7200000000000002\n",
      "Коефіцієнт кореляції дорівнюе :-1.0\n"
     ]
    }
   ],
   "source": [
    "\n",
    "My=Y[0]*Py[0]+Y[1]*Py[1]+Y[2]*Py[2]\n",
    "Mx=X[0]*Px[0]+X[1]*Px[1]+X[2]*Px[2]\n",
    "print(f\"My={My}\")\n",
    "print(f\"Mx={Mx}\")\n",
    "Dx=X[0]**2*Px[0]+X[1]**2*Px[1]+X[2]**2*Px[2]-Mx**2\n",
    "Dy=Y[0]**2*Py[0]+Y[1]**2*Py[1]+Y[2]**2*Py[2]-My**2\n",
    "print(f\"Dy={Dy}\")\n",
    "print(f\"Dx={Dx}\")\n",
    "Gx=Dx**0.5\n",
    "Gy=Dy**0.5\n",
    "print(f\"Gy={Gy}\")\n",
    "print(f\"Gx={Gx}\")\n",
    "Mxy=Y[1]*X[2]*B+Y[2]*X[1]*C\n",
    "print(f\"Mxy={Mxy}\")\n",
    "covXY=Mxy-(Mx*My)\n",
    "print(f\"covXY={covXY}\")\n",
    "cor=covXY/(Gx*Gy) #наш коефіцієнт кореляції (здогадка виправдалася)\n",
    "print(f\"Коефіцієнт кореляції дорівнюе :{cor}\")"
   ]
  },
  {
   "cell_type": "markdown",
   "id": "508985d8",
   "metadata": {},
   "source": [
    "# Задача 2"
   ]
  },
  {
   "cell_type": "code",
   "execution_count": 77,
   "id": "19715bf8",
   "metadata": {},
   "outputs": [],
   "source": [
    "X=[10,5,2,1,-5]\n",
    "Y=[20,10,2,-2,-8]\n",
    "\n",
    "Pxy=[[0.01,0.03,0.02,0.03,0.01],\n",
    "     [0.03,0.09,0.06,0.09,0.03],\n",
    "     [0.02,0.06,0.04,0.06,0.02],\n",
    "     [0.03,0.09,0.06,0.09,0.03],\n",
    "     [0.01,0.03,0.02,0.03,0.01]]\n",
    "Px=[sum(Pxy[0]),sum(Pxy[1]),sum(Pxy[2]),sum(Pxy[3]),sum(Pxy[4])]\n",
    "Py=[sum(row[0] for row in Pxy),\n",
    "    sum(row[1] for row in Pxy),\n",
    "    sum(row[2] for row in Pxy),\n",
    "    sum(row[3] for row in Pxy),\n",
    "    sum(row[4] for row in Pxy)]\n"
   ]
  },
  {
   "cell_type": "markdown",
   "id": "a330a9b9",
   "metadata": {},
   "source": [
    "1)Очікувана норма прибутку:"
   ]
  },
  {
   "cell_type": "code",
   "execution_count": 78,
   "id": "7967013a",
   "metadata": {},
   "outputs": [
    {
     "name": "stdout",
     "output_type": "stream",
     "text": [
      "My=4.000000000000001\n",
      "Mx=2.7\n"
     ]
    }
   ],
   "source": [
    "My=Y[0]*Py[0]+Y[1]*Py[1]+Y[2]*Py[2]+Y[3]*Py[3]+Y[4]*Py[4]\n",
    "Mx=X[0]*Px[0]+X[1]*Px[1]+X[2]*Px[2]+X[3]*Px[3]+X[4]*Px[4]\n",
    "print(f\"My={My}\")\n",
    "print(f\"Mx={Mx}\")"
   ]
  },
  {
   "cell_type": "markdown",
   "id": "f71756b7",
   "metadata": {},
   "source": [
    "2)Оцінити ступінь ризику:"
   ]
  },
  {
   "cell_type": "code",
   "execution_count": 79,
   "id": "a0e03752",
   "metadata": {},
   "outputs": [
    {
     "name": "stdout",
     "output_type": "stream",
     "text": [
      "Dy=57.59999999999999\n",
      "Dx=13.81\n",
      "Gy=7.589466384404109\n",
      "Gx=3.7161808352124095\n"
     ]
    }
   ],
   "source": [
    "Dx=X[0]**2*Px[0]+X[1]**2*Px[1]+X[2]**2*Px[2]+X[3]**2*Px[3]+X[4]**2*Px[4]-Mx**2\n",
    "Dy=Y[0]**2*Py[0]+Y[1]**2*Py[1]+Y[2]**2*Py[2]+X[3]**2*Px[3]+X[4]**2*Px[4]-My**2\n",
    "print(f\"Dy={Dy}\")\n",
    "print(f\"Dx={Dx}\")\n",
    "Gx=Dx**0.5\n",
    "Gy=Dy**0.5\n",
    "print(f\"Gy={Gy}\")\n",
    "print(f\"Gx={Gx}\")"
   ]
  },
  {
   "cell_type": "markdown",
   "id": "f9ea8773",
   "metadata": {},
   "source": [
    "**Ступінь ризику стретегії Y більше в два рази аніж X**"
   ]
  },
  {
   "cell_type": "markdown",
   "id": "83a1bb26",
   "metadata": {},
   "source": [
    "3)Проаналізувати наявність зв'язку:"
   ]
  },
  {
   "cell_type": "code",
   "execution_count": 95,
   "id": "1760f676",
   "metadata": {},
   "outputs": [
    {
     "name": "stdout",
     "output_type": "stream",
     "text": [
      "Mxy=10.8\n",
      "10.8\n",
      "10.800000000000002\n",
      "covXY=0.0\n",
      "Коефіцієнт кореляції дорівнюе :0.0\n"
     ]
    }
   ],
   "source": [
    "Mxy1=(Pxy[0][0]*X[0]*Y[0])+(Pxy[1][0]*X[1]*Y[0])+(Pxy[2][0]*X[2]*Y[0])+(Pxy[3][0]*X[3]*Y[0])+(Pxy[4][0]*X[4]*Y[0])\n",
    "Mxy2=Pxy[0][1]*X[0]*Y[1]+Pxy[1][1]*X[1]*Y[1]+Pxy[2][1]*X[2]*Y[1]+Pxy[3][1]*X[3]*Y[1]+Pxy[4][1]*X[4]*Y[1]\n",
    "Mxy3=Pxy[0][2]*X[0]*Y[2]+Pxy[1][2]*X[1]*Y[2]+Pxy[2][2]*X[2]*Y[2]+Pxy[3][2]*X[3]*Y[2]+Pxy[4][2]*X[4]*Y[2]\n",
    "Mxy4=Pxy[0][3]*X[0]*Y[3]+Pxy[1][3]*X[1]*Y[3]+Pxy[2][3]*X[2]*Y[3]+Pxy[3][3]*X[3]*Y[3]+Pxy[4][3]*X[4]*Y[3]\n",
    "Mxy5=Pxy[0][4]*X[0]*Y[4]+Pxy[1][4]*X[1]*Y[4]+Pxy[2][4]*X[2]*Y[4]+Pxy[3][4]*X[3]*Y[4]+Pxy[4][4]*X[4]*Y[4]\n",
    "Mxy=Mxy1+Mxy2+Mxy3+Mxy4+Mxy5\n",
    "print(f\"Mxy={Mxy}\")\n",
    "\n",
    "covXY=round((My*Mx),2)-Mxy\n",
    "print(Mxy)\n",
    "print(Mx*My)\n",
    "print(f\"covXY={covXY}\")\n",
    "cor=covXY/(Gx*Gy)\n",
    "print(f\"Коефіцієнт кореляції дорівнюе :{cor}\")"
   ]
  },
  {
   "cell_type": "markdown",
   "id": "c02c74fe",
   "metadata": {},
   "source": [
    "**Зв'язку між акціями немає**"
   ]
  }
 ],
 "metadata": {
  "kernelspec": {
   "display_name": "Python 3 (ipykernel)",
   "language": "python",
   "name": "python3"
  },
  "language_info": {
   "codemirror_mode": {
    "name": "ipython",
    "version": 3
   },
   "file_extension": ".py",
   "mimetype": "text/x-python",
   "name": "python",
   "nbconvert_exporter": "python",
   "pygments_lexer": "ipython3",
   "version": "3.10.11"
  }
 },
 "nbformat": 4,
 "nbformat_minor": 5
}
