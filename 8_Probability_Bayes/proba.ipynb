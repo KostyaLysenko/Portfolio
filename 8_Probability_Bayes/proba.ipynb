{
 "cells": [
  {
   "cell_type": "markdown",
   "id": "01fde7a0",
   "metadata": {},
   "source": [
    "# Задача 1"
   ]
  },
  {
   "cell_type": "code",
   "execution_count": 4,
   "id": "d80682e2",
   "metadata": {},
   "outputs": [
    {
     "data": {
      "text/plain": [
       "0.2857142857142857"
      ]
     },
     "execution_count": 4,
     "metadata": {},
     "output_type": "execute_result"
    }
   ],
   "source": [
    "e=7\n",
    "z=3\n",
    "P=(4/7)*(3/6)\n",
    "P"
   ]
  },
  {
   "cell_type": "markdown",
   "id": "819b9381",
   "metadata": {},
   "source": [
    "# Задача 2"
   ]
  },
  {
   "cell_type": "code",
   "execution_count": 7,
   "id": "b3275bd0",
   "metadata": {},
   "outputs": [],
   "source": [
    "P1=0.95\n",
    "P2=0.9\n",
    "\n"
   ]
  },
  {
   "cell_type": "markdown",
   "id": "d7f70fa9",
   "metadata": {},
   "source": [
    "а)"
   ]
  },
  {
   "cell_type": "code",
   "execution_count": 9,
   "id": "5eaed133",
   "metadata": {},
   "outputs": [
    {
     "data": {
      "text/plain": [
       "0.9950000000000001"
      ]
     },
     "execution_count": 9,
     "metadata": {},
     "output_type": "execute_result"
    }
   ],
   "source": [
    "P=P1+P2-(P1*P2)\n",
    "P"
   ]
  },
  {
   "cell_type": "markdown",
   "id": "6a4fb530",
   "metadata": {},
   "source": [
    "б)"
   ]
  },
  {
   "cell_type": "code",
   "execution_count": 13,
   "id": "db57cd10",
   "metadata": {},
   "outputs": [
    {
     "data": {
      "text/plain": [
       "0.14"
      ]
     },
     "execution_count": 13,
     "metadata": {},
     "output_type": "execute_result"
    }
   ],
   "source": [
    "P=P1*(1-P2)+P2*(1-P1)\n",
    "P"
   ]
  },
  {
   "cell_type": "markdown",
   "id": "51fa0053",
   "metadata": {},
   "source": [
    "# Задача 3"
   ]
  },
  {
   "cell_type": "code",
   "execution_count": 57,
   "id": "b2978d56",
   "metadata": {},
   "outputs": [],
   "source": [
    "A=0.6\n",
    "B=0.84\n"
   ]
  },
  {
   "cell_type": "markdown",
   "id": "372a4a8a",
   "metadata": {},
   "source": [
    "a)"
   ]
  },
  {
   "cell_type": "code",
   "execution_count": 72,
   "id": "a39294cd",
   "metadata": {},
   "outputs": [
    {
     "data": {
      "text/plain": [
       "0.9359999999999999"
      ]
     },
     "execution_count": 72,
     "metadata": {},
     "output_type": "execute_result"
    }
   ],
   "source": [
    "P=A+B-(A*B)\n",
    "P"
   ]
  },
  {
   "cell_type": "markdown",
   "id": "1586c91a",
   "metadata": {},
   "source": [
    "б)"
   ]
  },
  {
   "cell_type": "code",
   "execution_count": 73,
   "id": "f103d32b",
   "metadata": {},
   "outputs": [
    {
     "data": {
      "text/plain": [
       "0.624"
      ]
     },
     "execution_count": 73,
     "metadata": {},
     "output_type": "execute_result"
    }
   ],
   "source": [
    "P*2/3"
   ]
  }
 ],
 "metadata": {
  "kernelspec": {
   "display_name": "Python 3 (ipykernel)",
   "language": "python",
   "name": "python3"
  },
  "language_info": {
   "codemirror_mode": {
    "name": "ipython",
    "version": 3
   },
   "file_extension": ".py",
   "mimetype": "text/x-python",
   "name": "python",
   "nbconvert_exporter": "python",
   "pygments_lexer": "ipython3",
   "version": "3.10.11"
  }
 },
 "nbformat": 4,
 "nbformat_minor": 5
}
