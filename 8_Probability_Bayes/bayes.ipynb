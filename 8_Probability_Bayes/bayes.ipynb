{
 "cells": [
  {
   "cell_type": "markdown",
   "id": "f36b855a",
   "metadata": {},
   "source": [
    "# задача 1"
   ]
  },
  {
   "cell_type": "code",
   "execution_count": 33,
   "id": "9d63b1fa",
   "metadata": {},
   "outputs": [
    {
     "name": "stdout",
     "output_type": "stream",
     "text": [
      "0.11200000000000002\n"
     ]
    }
   ],
   "source": [
    "d1=0.1\n",
    "d2=0.2\n",
    "e1=40\n",
    "e2=60\n",
    "\n",
    "\n",
    "P=d1+d2-(d1*d2)\n",
    "\n",
    "p=40/100*P\n",
    "print(p)\n",
    "\n",
    "# N=0.9*0.8\n",
    "# print(N)\n",
    "# (1-N)*40/100\n"
   ]
  },
  {
   "cell_type": "markdown",
   "id": "b57d14c0",
   "metadata": {},
   "source": [
    "# задача 2"
   ]
  },
  {
   "cell_type": "markdown",
   "id": "82a69d7b",
   "metadata": {},
   "source": [
    "підрахуємо мат.очікування, дисперсію та средньоквадратичне відхилення"
   ]
  },
  {
   "cell_type": "code",
   "execution_count": 37,
   "id": "13dcb4c8",
   "metadata": {},
   "outputs": [],
   "source": [
    "X=[1000,1500,2000]\n",
    "Px=[0.5,0.3,0.2]\n",
    "\n",
    "Y=[1000,1500,1750]\n",
    "Py=[0.4,0.4,0.2]"
   ]
  },
  {
   "cell_type": "markdown",
   "id": "225c36ac",
   "metadata": {},
   "source": [
    "мат.очікування:"
   ]
  },
  {
   "cell_type": "code",
   "execution_count": 38,
   "id": "4eb784a8",
   "metadata": {},
   "outputs": [
    {
     "name": "stdout",
     "output_type": "stream",
     "text": [
      "1350.0\n",
      "1350.0\n"
     ]
    }
   ],
   "source": [
    "Mx=X[0]*Px[0]+X[1]*Px[1]+X[2]*Px[2]\n",
    "My=Y[0]*Py[0]+Y[1]*Py[1]+Y[2]*Py[2]\n",
    "print(Mx)\n",
    "print(My)"
   ]
  },
  {
   "cell_type": "markdown",
   "id": "a1b5ad35",
   "metadata": {},
   "source": [
    "на перший погляд показники однакові, проте підрахуємо дисперсію та средньоквадратичне відхилення:"
   ]
  },
  {
   "cell_type": "code",
   "execution_count": 39,
   "id": "92aacbc5",
   "metadata": {},
   "outputs": [
    {
     "name": "stdout",
     "output_type": "stream",
     "text": [
      "152500.0\n",
      "90000.0\n",
      "390.51248379533274\n",
      "300.0\n"
     ]
    }
   ],
   "source": [
    "Dx=X[0]**2*Px[0]+X[1]**2*Px[1]+X[2]**2*Px[2]-Mx**2\n",
    "Dy=Y[0]**2*Py[0]+Y[1]**2*Py[1]+Y[2]**2*Py[2]-My**2\n",
    "print(Dx)\n",
    "print(Dy)\n",
    "Gx=Dx**0.5\n",
    "Gy=Dy**0.5\n",
    "print(Gx)\n",
    "print(Gy)"
   ]
  },
  {
   "cell_type": "markdown",
   "id": "d025c8f9",
   "metadata": {},
   "source": [
    "`Висновок:` средньоквадратичне відхилення X більше ніж Y на 90+, тож маркетологічному відділу слід обрати **стратегію Y** яка видає більш стабільні показники при тому самому об'ємі добутку"
   ]
  }
 ],
 "metadata": {
  "kernelspec": {
   "display_name": "Python 3 (ipykernel)",
   "language": "python",
   "name": "python3"
  },
  "language_info": {
   "codemirror_mode": {
    "name": "ipython",
    "version": 3
   },
   "file_extension": ".py",
   "mimetype": "text/x-python",
   "name": "python",
   "nbconvert_exporter": "python",
   "pygments_lexer": "ipython3",
   "version": "3.10.11"
  }
 },
 "nbformat": 4,
 "nbformat_minor": 5
}
