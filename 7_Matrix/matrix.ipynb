{
 "cells": [
  {
   "cell_type": "markdown",
   "id": "8d0d4a69",
   "metadata": {},
   "source": [
    "# Приклад 1"
   ]
  },
  {
   "cell_type": "markdown",
   "id": "7395759b",
   "metadata": {},
   "source": [
    "поміняємо другий та перший рядок місцями"
   ]
  },
  {
   "cell_type": "code",
   "execution_count": 98,
   "id": "2f467203",
   "metadata": {},
   "outputs": [
    {
     "name": "stdout",
     "output_type": "stream",
     "text": [
      "[[2, 2, 2], [1, 1, 1], [3, 3, 3]]\n"
     ]
    }
   ],
   "source": [
    "A=[[1,1,1],\n",
    "  [2,2,2],\n",
    "  [3,3,3]]\n",
    "\n",
    "A[0],A[1]=A[1],A[0]\n",
    "print(A)\n",
    "\n"
   ]
  },
  {
   "cell_type": "markdown",
   "id": "09945f9d",
   "metadata": {},
   "source": [
    "# Приклад 2"
   ]
  },
  {
   "cell_type": "markdown",
   "id": "faf8fdfe",
   "metadata": {},
   "source": [
    "до другого рядка додати перший помножений на -4"
   ]
  },
  {
   "cell_type": "code",
   "execution_count": 99,
   "id": "2b085d3a",
   "metadata": {},
   "outputs": [
    {
     "name": "stdout",
     "output_type": "stream",
     "text": [
      "[[2, 2, 2], [-7, -7, -7], [3, 3, 3]]\n"
     ]
    }
   ],
   "source": [
    "A[1][0]=A[0][0]*(-4)+A[1][0]\n",
    "A[1][1]=A[0][1]*(-4)+A[1][1]\n",
    "A[1][2]=A[0][2]*(-4)+A[1][2]\n",
    "print(A)"
   ]
  },
  {
   "cell_type": "markdown",
   "id": "34bfe8f4",
   "metadata": {},
   "source": [
    "до третього рядка додати перший"
   ]
  },
  {
   "cell_type": "code",
   "execution_count": 102,
   "id": "a9b702e3",
   "metadata": {},
   "outputs": [
    {
     "name": "stdout",
     "output_type": "stream",
     "text": [
      "[[2, 2, 2], [-7, -7, -7], [5, 5, 5]]\n"
     ]
    }
   ],
   "source": [
    "A[2][0]=A[0][0]+A[2][0]\n",
    "A[2][1]=A[0][1]+A[2][1]\n",
    "A[2][2]=A[0][2]+A[2][2]\n",
    "print(A)"
   ]
  },
  {
   "cell_type": "markdown",
   "id": "f80fe726",
   "metadata": {},
   "source": [
    "другий рядок поділити на -2"
   ]
  },
  {
   "cell_type": "code",
   "execution_count": 104,
   "id": "9d3cb024",
   "metadata": {},
   "outputs": [
    {
     "name": "stdout",
     "output_type": "stream",
     "text": [
      "[[2, 2, 2], [3.5, 3.5, 3.5], [5, 5, 5]]\n"
     ]
    }
   ],
   "source": [
    "A[1][0]=A[1][0]/(-2)\n",
    "A[1][1]=A[1][1]/(-2)\n",
    "A[1][2]=A[1][2]/(-2)\n",
    "print(A)"
   ]
  },
  {
   "cell_type": "markdown",
   "id": "d2d7a14d",
   "metadata": {},
   "source": [
    "третій рядок ділимо на 6"
   ]
  },
  {
   "cell_type": "code",
   "execution_count": 106,
   "id": "60c8be37",
   "metadata": {},
   "outputs": [
    {
     "name": "stdout",
     "output_type": "stream",
     "text": [
      "[[2, 2, 2], [3.5, 3.5, 3.5], [0.8333333333333334, 0.8333333333333334, 0.8333333333333334]]\n"
     ]
    }
   ],
   "source": [
    "A[2][0]=A[2][0]/(6)\n",
    "A[2][1]=A[2][1]/(6)\n",
    "A[2][2]=A[2][2]/(6)\n",
    "print(A)"
   ]
  },
  {
   "cell_type": "markdown",
   "id": "5f242af5",
   "metadata": {},
   "source": [
    "поміняємо другий та третій рядок місцями"
   ]
  },
  {
   "cell_type": "code",
   "execution_count": 108,
   "id": "17f7f358",
   "metadata": {
    "scrolled": true
   },
   "outputs": [
    {
     "name": "stdout",
     "output_type": "stream",
     "text": [
      "[[2, 2, 2], [0.8333333333333334, 0.8333333333333334, 0.8333333333333334], [3.5, 3.5, 3.5]]\n"
     ]
    }
   ],
   "source": [
    "A[2],A[1]=A[1],A[2]\n",
    "print(A)"
   ]
  },
  {
   "cell_type": "markdown",
   "id": "1ff2bb3b",
   "metadata": {},
   "source": [
    "до 3-тього рядка додамо 2-ий, помножений на -5"
   ]
  },
  {
   "cell_type": "code",
   "execution_count": 109,
   "id": "a8b3e2ea",
   "metadata": {},
   "outputs": [
    {
     "name": "stdout",
     "output_type": "stream",
     "text": [
      "[[2, 2, 2], [0.8333333333333334, 0.8333333333333334, 0.8333333333333334], [-0.666666666666667, -0.666666666666667, -0.666666666666667]]\n"
     ]
    }
   ],
   "source": [
    "A[2][0]=A[1][0]*(-5)+A[2][0]\n",
    "A[2][1]=A[1][1]*(-5)+A[2][1]\n",
    "A[2][2]=A[1][2]*(-5)+A[2][2]\n",
    "print(A)"
   ]
  }
 ],
 "metadata": {
  "kernelspec": {
   "display_name": "Python 3 (ipykernel)",
   "language": "python",
   "name": "python3"
  },
  "language_info": {
   "codemirror_mode": {
    "name": "ipython",
    "version": 3
   },
   "file_extension": ".py",
   "mimetype": "text/x-python",
   "name": "python",
   "nbconvert_exporter": "python",
   "pygments_lexer": "ipython3",
   "version": "3.10.11"
  }
 },
 "nbformat": 4,
 "nbformat_minor": 5
}
