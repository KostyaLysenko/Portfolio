{
 "cells": [
  {
   "cell_type": "markdown",
   "id": "7a09a49e",
   "metadata": {},
   "source": [
    "# Задача 1"
   ]
  },
  {
   "cell_type": "code",
   "execution_count": 1,
   "id": "9405a16b",
   "metadata": {},
   "outputs": [
    {
     "name": "stdout",
     "output_type": "stream",
     "text": [
      "7.0\n",
      "2.644825135996707\n"
     ]
    }
   ],
   "source": [
    "n=10000\n",
    "Q=0.0007\n",
    "P=1-Q\n",
    "Mx=n*Q\n",
    "print(Mx)\n",
    "Dx=n*Q*P\n",
    "Gx=Dx**0.5\n",
    "print(Gx)\n",
    "\n"
   ]
  },
  {
   "cell_type": "markdown",
   "id": "82f4b6e7",
   "metadata": {},
   "source": [
    "# Задача 2"
   ]
  },
  {
   "cell_type": "code",
   "execution_count": 3,
   "id": "e0e57a0a",
   "metadata": {},
   "outputs": [
    {
     "name": "stdout",
     "output_type": "stream",
     "text": [
      "0.9999000000009999\n",
      "0.9999499987504374\n"
     ]
    }
   ],
   "source": [
    "\n",
    "n=10000\n",
    "P=(99.99)/100\n",
    "Q=1-P\n",
    "\n",
    "Dx=n*Q*P\n",
    "print(Dx)\n",
    "Gx=Dx**0.5\n",
    "print(Gx)"
   ]
  }
 ],
 "metadata": {
  "kernelspec": {
   "display_name": "Python 3 (ipykernel)",
   "language": "python",
   "name": "python3"
  },
  "language_info": {
   "codemirror_mode": {
    "name": "ipython",
    "version": 3
   },
   "file_extension": ".py",
   "mimetype": "text/x-python",
   "name": "python",
   "nbconvert_exporter": "python",
   "pygments_lexer": "ipython3",
   "version": "3.10.11"
  }
 },
 "nbformat": 4,
 "nbformat_minor": 5
}
