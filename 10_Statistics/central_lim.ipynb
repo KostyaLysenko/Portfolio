{
 "cells": [
  {
   "cell_type": "markdown",
   "id": "60513f20",
   "metadata": {},
   "source": [
    "# Задача 1"
   ]
  },
  {
   "cell_type": "code",
   "execution_count": 2,
   "id": "3876a9ba",
   "metadata": {},
   "outputs": [
    {
     "name": "stdout",
     "output_type": "stream",
     "text": [
      "[85, 86, 87, 88, 89, 90, 91, 92, 93, 94, 95]\n",
      "90.0\n",
      "9.0\n",
      "3.0\n",
      "5.0\n",
      "Ймовірність що число телевізорів які витримають гарантійний термін буде в межах [85:95] дорівнює: 0.64\n"
     ]
    }
   ],
   "source": [
    "P=0.9\n",
    "a=[]\n",
    "for i in range(85,96):\n",
    "    a.append(i)\n",
    "print(a)\n",
    "\n",
    "\n",
    "Q=0.1\n",
    "\n",
    "Mx=100*P\n",
    "print(Mx)\n",
    "Dx=100*P*Q\n",
    "print(Dx)\n",
    "Gx=Dx**0.5\n",
    "print(Gx)\n",
    "Eps=max(a)-Mx\n",
    "Eps=abs(min(a)-Mx) #модуль числа\n",
    "print(Eps)\n",
    "Pvytr=1-(Dx/(Eps**2))\n",
    "print(f'Ймовірність що число телевізорів які витримають гарантійний термін буде в межах [85:95] дорівнює: {Pvytr}')\n",
    "\n"
   ]
  },
  {
   "cell_type": "markdown",
   "id": "3120c45f",
   "metadata": {},
   "source": [
    "# Задача 2"
   ]
  },
  {
   "cell_type": "code",
   "execution_count": 7,
   "id": "cfbc63ac",
   "metadata": {},
   "outputs": [
    {
     "name": "stdout",
     "output_type": "stream",
     "text": [
      "{6, 7, 8, 9, 10, 11, 12, 13, 14}\n",
      "10 6\n",
      "13 3\n",
      "10 6\n",
      "9 8\n",
      "9 8\n",
      "12 5\n",
      "12 5\n",
      "6 1\n",
      "7 3\n",
      "9 8\n",
      "8 6\n",
      "9 8\n",
      "11 6\n",
      "9 8\n",
      "14 2\n",
      "13 3\n",
      "9 8\n",
      "8 6\n",
      "8 6\n",
      "7 3\n",
      "10 6\n",
      "10 6\n",
      "11 6\n",
      "11 6\n",
      "11 6\n",
      "12 5\n",
      "8 6\n",
      "7 3\n",
      "9 8\n",
      "10 6\n",
      "14 2\n",
      "13 3\n",
      "8 6\n",
      "8 6\n",
      "9 8\n",
      "10 6\n",
      "11 6\n",
      "11 6\n",
      "12 5\n",
      "12 5\n",
      "{6, 7, 8, 9, 10, 11, 12, 13, 14}\n"
     ]
    }
   ],
   "source": [
    "X=[10,13,10,9,9,12,12,6,7,9,8,9,11,9,14,13,9,8,8,7,10,10,11,11,11,12,8,7,9,10,14,13,8,8,9,10,11,11,12,12]\n",
    "print(x:=set(sorted(X)))\n",
    "n=[]\n",
    "for i in X:\n",
    "    M=X.count(i)\n",
    "    n.append(M)\n",
    "    print(i,M) #знайдемо відповідні значення щоб та їх щільність що скласти список\n",
    "print(x)"
   ]
  },
  {
   "cell_type": "markdown",
   "id": "0adc84db",
   "metadata": {},
   "source": [
    "обчислимо необхідні параметри"
   ]
  },
  {
   "cell_type": "code",
   "execution_count": 10,
   "id": "a6571e0f",
   "metadata": {
    "scrolled": true
   },
   "outputs": [
    {
     "name": "stdout",
     "output_type": "stream",
     "text": [
      "1.0\n"
     ]
    }
   ],
   "source": [
    "n=[1,3,6,8,6,6,5,3,2]\n",
    "Fx=sum(n)/len(X)\n",
    "print(Fx)"
   ]
  },
  {
   "cell_type": "markdown",
   "id": "668f8931",
   "metadata": {},
   "source": [
    "Значення моди та медіани"
   ]
  },
  {
   "cell_type": "code",
   "execution_count": 9,
   "id": "1c96ebcc",
   "metadata": {},
   "outputs": [
    {
     "name": "stdout",
     "output_type": "stream",
     "text": [
      "9\n",
      "10.0\n"
     ]
    }
   ],
   "source": [
    "M=9 #тому що n=8 - найбільше значення \n",
    "print(M)\n",
    "Me=sum(X)/len(X)\n",
    "print(Me)\n"
   ]
  }
 ],
 "metadata": {
  "kernelspec": {
   "display_name": "Python 3 (ipykernel)",
   "language": "python",
   "name": "python3"
  },
  "language_info": {
   "codemirror_mode": {
    "name": "ipython",
    "version": 3
   },
   "file_extension": ".py",
   "mimetype": "text/x-python",
   "name": "python",
   "nbconvert_exporter": "python",
   "pygments_lexer": "ipython3",
   "version": "3.10.11"
  }
 },
 "nbformat": 4,
 "nbformat_minor": 5
}
